{
 "cells": [
  {
   "cell_type": "code",
   "execution_count": null,
   "id": "0402c77b-4b5e-4ee2-ac00-9d6d7dc49d88",
   "metadata": {},
   "outputs": [],
   "source": []
  }
 ],
 "metadata": {
  "kernelspec": {
   "display_name": "",
   "name": ""
  },
  "language_info": {
   "name": ""
  }
 },
 "nbformat": 4,
 "nbformat_minor": 5
}
