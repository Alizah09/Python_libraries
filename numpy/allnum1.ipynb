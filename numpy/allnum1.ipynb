{
 "cells": [
  {
   "cell_type": "code",
   "execution_count": 126,
   "id": "a5418a5c-c448-4014-8cc9-e5380ff2efa2",
   "metadata": {},
   "outputs": [],
   "source": [
    "import numpy as np"
   ]
  },
  {
   "cell_type": "code",
   "execution_count": 127,
   "id": "0222fe21-2531-46f3-ab04-18314314961d",
   "metadata": {},
   "outputs": [
    {
     "data": {
      "text/plain": [
       "array([1, 2, 3, 4])"
      ]
     },
     "execution_count": 127,
     "metadata": {},
     "output_type": "execute_result"
    }
   ],
   "source": [
    "arr=np.array([1,2,3,4])\n",
    "arr"
   ]
  },
  {
   "cell_type": "code",
   "execution_count": 128,
   "id": "8ee95e3f-597f-4606-ae0a-b7e09365e137",
   "metadata": {},
   "outputs": [
    {
     "data": {
      "text/plain": [
       "[1, 2, 3, 4, 'hello']"
      ]
     },
     "execution_count": 128,
     "metadata": {},
     "output_type": "execute_result"
    }
   ],
   "source": [
    "a=[1,2,3,4,\"hello\"]\n",
    "a"
   ]
  },
  {
   "cell_type": "code",
   "execution_count": 129,
   "id": "274d212e-0427-4b34-a2d3-ad1040e35785",
   "metadata": {},
   "outputs": [
    {
     "data": {
      "text/plain": [
       "array(['1', '2', '3', '4', 'hello'], dtype='<U11')"
      ]
     },
     "execution_count": 129,
     "metadata": {},
     "output_type": "execute_result"
    }
   ],
   "source": [
    "np.array(a) #all data types store as string"
   ]
  },
  {
   "cell_type": "code",
   "execution_count": 130,
   "id": "89bce867-2eac-47df-b239-2ff13c876df0",
   "metadata": {},
   "outputs": [
    {
     "data": {
      "text/plain": [
       "array([1. , 2. , 3. , 4.5])"
      ]
     },
     "execution_count": 130,
     "metadata": {},
     "output_type": "execute_result"
    }
   ],
   "source": [
    "c=[1,2,3,4.5]\n",
    "np.array(c)"
   ]
  },
  {
   "cell_type": "code",
   "execution_count": 131,
   "id": "390f434d-0fc3-4823-8271-24ec7db59e90",
   "metadata": {},
   "outputs": [
    {
     "data": {
      "text/plain": [
       "[[1, 2, 3, 4.5], [2, 3, 4, 5], [3, 5, 6, 7]]"
      ]
     },
     "execution_count": 131,
     "metadata": {},
     "output_type": "execute_result"
    }
   ],
   "source": [
    "c=[[1,2,3,4.5],[2,3,4,5],[3,5,6,7]]\n",
    "c #list contains the list datatype"
   ]
  },
  {
   "cell_type": "code",
   "execution_count": 132,
   "id": "52db28eb-29d4-42ae-8482-2c58a106e396",
   "metadata": {},
   "outputs": [
    {
     "data": {
      "text/plain": [
       "array([[1. , 2. , 3. , 4.5],\n",
       "       [2. , 3. , 4. , 5. ],\n",
       "       [3. , 5. , 6. , 7. ]])"
      ]
     },
     "execution_count": 132,
     "metadata": {},
     "output_type": "execute_result"
    }
   ],
   "source": [
    "np.array(c)"
   ]
  },
  {
   "cell_type": "markdown",
   "id": "f1553f55-71e2-4437-9355-00fdcab7e5b6",
   "metadata": {},
   "source": [
    "# ARRAY GENERATION FUNCTION"
   ]
  },
  {
   "cell_type": "code",
   "execution_count": 133,
   "id": "061dd085-cf60-47ec-b1af-4600af960db3",
   "metadata": {},
   "outputs": [
    {
     "data": {
      "text/plain": [
       "array([ 1,  3,  5,  7,  9, 11])"
      ]
     },
     "execution_count": 133,
     "metadata": {},
     "output_type": "execute_result"
    }
   ],
   "source": [
    "arr=np.arange(1,12,2)\n",
    "arr"
   ]
  },
  {
   "cell_type": "code",
   "execution_count": 134,
   "id": "3653188b-eca0-42ac-979f-08362093ebc6",
   "metadata": {},
   "outputs": [
    {
     "data": {
      "text/plain": [
       "array([[0., 0., 0., 0., 0., 0.],\n",
       "       [0., 0., 0., 0., 0., 0.],\n",
       "       [0., 0., 0., 0., 0., 0.],\n",
       "       [0., 0., 0., 0., 0., 0.],\n",
       "       [0., 0., 0., 0., 0., 0.],\n",
       "       [0., 0., 0., 0., 0., 0.]])"
      ]
     },
     "execution_count": 134,
     "metadata": {},
     "output_type": "execute_result"
    }
   ],
   "source": [
    "arr=np.zeros((6,6))\n",
    "arr"
   ]
  },
  {
   "cell_type": "code",
   "execution_count": 135,
   "id": "643039f7-1f5a-4255-9691-9f910c0ee284",
   "metadata": {},
   "outputs": [
    {
     "data": {
      "text/plain": [
       "array([[0., 0., 0., 0.],\n",
       "       [0., 0., 0., 0.]])"
      ]
     },
     "execution_count": 135,
     "metadata": {},
     "output_type": "execute_result"
    }
   ],
   "source": [
    "arr=np.zeros((2,4))\n",
    "arr"
   ]
  },
  {
   "cell_type": "code",
   "execution_count": 136,
   "id": "0d530fa9-1047-4e0f-8e40-39aa68edbb4e",
   "metadata": {},
   "outputs": [
    {
     "data": {
      "text/plain": [
       "array([[1., 1., 1., 1.],\n",
       "       [1., 1., 1., 1.],\n",
       "       [1., 1., 1., 1.]])"
      ]
     },
     "execution_count": 136,
     "metadata": {},
     "output_type": "execute_result"
    }
   ],
   "source": [
    "arr=np.ones((3,4))\n",
    "arr"
   ]
  },
  {
   "cell_type": "code",
   "execution_count": 137,
   "id": "fb1d2123-e9f2-48d4-8cc9-0de67fe5a8c5",
   "metadata": {},
   "outputs": [
    {
     "data": {
      "text/plain": [
       "array([1., 5.])"
      ]
     },
     "execution_count": 137,
     "metadata": {},
     "output_type": "execute_result"
    }
   ],
   "source": [
    "arr=np.linspace(1,5,2)\n",
    "arr"
   ]
  },
  {
   "cell_type": "code",
   "execution_count": 138,
   "id": "58a12cee-2526-4bd6-aa31-4edf0b694684",
   "metadata": {},
   "outputs": [
    {
     "data": {
      "text/plain": [
       "array([1., 3., 5.])"
      ]
     },
     "execution_count": 138,
     "metadata": {},
     "output_type": "execute_result"
    }
   ],
   "source": [
    "arr=np.linspace(1,5,3)\n",
    "arr"
   ]
  },
  {
   "cell_type": "code",
   "execution_count": 139,
   "id": "f51a1788-a13f-42a0-bf8d-5f1e6b045674",
   "metadata": {},
   "outputs": [
    {
     "data": {
      "text/plain": [
       "array([1.        , 2.33333333, 3.66666667, 5.        ])"
      ]
     },
     "execution_count": 139,
     "metadata": {},
     "output_type": "execute_result"
    }
   ],
   "source": [
    "arr=np.linspace(1,5,4)\n",
    "arr"
   ]
  },
  {
   "cell_type": "code",
   "execution_count": 140,
   "id": "e88212aa-04e6-4ad1-9b81-7e8b786dfb6e",
   "metadata": {},
   "outputs": [
    {
     "data": {
      "text/plain": [
       "array([1., 2., 3., 4., 5.])"
      ]
     },
     "execution_count": 140,
     "metadata": {},
     "output_type": "execute_result"
    }
   ],
   "source": [
    "arr=np.linspace(1,5,5)\n",
    "arr"
   ]
  },
  {
   "cell_type": "code",
   "execution_count": 141,
   "id": "fe59b18a-2ad6-468a-a44c-dbfdf64ad165",
   "metadata": {},
   "outputs": [
    {
     "data": {
      "text/plain": [
       "array([1.        , 1.44444444, 1.88888889, 2.33333333, 2.77777778,\n",
       "       3.22222222, 3.66666667, 4.11111111, 4.55555556, 5.        ])"
      ]
     },
     "execution_count": 141,
     "metadata": {},
     "output_type": "execute_result"
    }
   ],
   "source": [
    "arr=np.linspace(1,5,10)\n",
    "arr"
   ]
  },
  {
   "cell_type": "code",
   "execution_count": 142,
   "id": "e4dd0d13-8621-4691-9c01-8074224ed62f",
   "metadata": {},
   "outputs": [
    {
     "name": "stdout",
     "output_type": "stream",
     "text": [
      "3\n",
      "1\n",
      "10\n",
      "8\n",
      "4\n"
     ]
    }
   ],
   "source": [
    "import random  # Step 1: import the random module\n",
    "\n",
    "for i in range(5):\n",
    "    x = random.randint(1, 10)  # generates a random integer between 1 and 10\n",
    "    print(x)\n"
   ]
  },
  {
   "cell_type": "code",
   "execution_count": 143,
   "id": "00fd2f1e-b31f-40b5-92f6-f6febdb54116",
   "metadata": {},
   "outputs": [
    {
     "name": "stdout",
     "output_type": "stream",
     "text": [
      "cherry\n",
      "banana\n",
      "cherry\n",
      "apple\n",
      "banana\n"
     ]
    }
   ],
   "source": [
    "import random\n",
    "\n",
    "fruits = ['apple', 'banana', 'cherry']\n",
    "for i in range(5):\n",
    "    print(random.choice(fruits))\n"
   ]
  },
  {
   "cell_type": "code",
   "execution_count": 144,
   "id": "3ff5d822-2b8e-42b7-8f9e-35b5264aa9ed",
   "metadata": {},
   "outputs": [
    {
     "name": "stdout",
     "output_type": "stream",
     "text": [
      "Generated random numbers: [9, 4, 10, 9, 6]\n"
     ]
    }
   ],
   "source": [
    "import random\n",
    "\n",
    "a = []  # Create an empty list\n",
    "\n",
    "for i in range(5):\n",
    "    x = random.randint(1, 10)  # Generate a random number between 1 and 10\n",
    "    a.append(x)   # Store in list\n",
    "\n",
    "print(\"Generated random numbers:\", a)\n"
   ]
  },
  {
   "cell_type": "code",
   "execution_count": 145,
   "id": "73153c15-d91d-4b85-908b-2d649184750c",
   "metadata": {},
   "outputs": [
    {
     "name": "stdout",
     "output_type": "stream",
     "text": [
      "[0.67819337591623, 0.34727734190454085, 0.5664232423852958, 0.5783315466904854, 0.4936519417826716]\n"
     ]
    }
   ],
   "source": [
    "import random\n",
    "\n",
    "random_floats = [random.random() for _ in range(5)]\n",
    "print(random_floats)"
   ]
  },
  {
   "cell_type": "markdown",
   "id": "1b4d87a1-e22d-4f2d-90ee-4ddf0ba1eba1",
   "metadata": {},
   "source": [
    "## random generation function"
   ]
  },
  {
   "cell_type": "code",
   "execution_count": 146,
   "id": "195e9e38-a48c-4f25-aade-2d1ddd82b11d",
   "metadata": {},
   "outputs": [
    {
     "data": {
      "text/plain": [
       "array([0.28912109, 0.08466564, 0.72803214, 0.80659423])"
      ]
     },
     "execution_count": 146,
     "metadata": {},
     "output_type": "execute_result"
    }
   ],
   "source": [
    "np.random.rand(4)"
   ]
  },
  {
   "cell_type": "code",
   "execution_count": 147,
   "id": "3cbd1911-2dac-41e6-8d12-b686762901f3",
   "metadata": {},
   "outputs": [
    {
     "data": {
      "text/plain": [
       "array([[0.49888268, 0.38167242, 0.72923684, 0.99867004],\n",
       "       [0.50232747, 0.84598109, 0.98432506, 0.43997062]])"
      ]
     },
     "execution_count": 147,
     "metadata": {},
     "output_type": "execute_result"
    }
   ],
   "source": [
    "arr=np.random.rand(2,4)\n",
    "arr # rnge 0 to 1"
   ]
  },
  {
   "cell_type": "code",
   "execution_count": 148,
   "id": "8eb21581-3962-4f8b-9e94-35d76a07fb42",
   "metadata": {},
   "outputs": [
    {
     "data": {
      "text/plain": [
       "array([ 0.32490398, -0.84605375,  0.32193163, -0.18206598])"
      ]
     },
     "execution_count": 148,
     "metadata": {},
     "output_type": "execute_result"
    }
   ],
   "source": [
    "np.random.randn(4)"
   ]
  },
  {
   "cell_type": "code",
   "execution_count": 149,
   "id": "b51edb07-6913-4dbc-8b72-84e5a3557c31",
   "metadata": {},
   "outputs": [
    {
     "data": {
      "text/plain": [
       "array([[-1.47029618,  1.00042001,  0.10185401, -0.94702832],\n",
       "       [-0.08900948, -1.11223147,  0.70611312,  0.0172874 ]])"
      ]
     },
     "execution_count": 149,
     "metadata": {},
     "output_type": "execute_result"
    }
   ],
   "source": [
    "a=np.random.randn(2,4)\n",
    "a #range -3 to 3"
   ]
  },
  {
   "cell_type": "code",
   "execution_count": 150,
   "id": "2337499a-362d-45a5-a9cf-c88068cdf04d",
   "metadata": {},
   "outputs": [
    {
     "data": {
      "text/plain": [
       "2"
      ]
     },
     "execution_count": 150,
     "metadata": {},
     "output_type": "execute_result"
    }
   ],
   "source": [
    "np.random.randint(5) # koi ek random value dega 0 se 5 ke bich"
   ]
  },
  {
   "cell_type": "code",
   "execution_count": 151,
   "id": "8c2395f6-2eb8-4580-a0bd-f316f99a7157",
   "metadata": {},
   "outputs": [
    {
     "data": {
      "text/plain": [
       "3"
      ]
     },
     "execution_count": 151,
     "metadata": {},
     "output_type": "execute_result"
    }
   ],
   "source": [
    "np.random.randint(1,5)"
   ]
  },
  {
   "cell_type": "code",
   "execution_count": 152,
   "id": "cf49d5e4-861e-47a2-b156-15996dc55a5c",
   "metadata": {},
   "outputs": [
    {
     "data": {
      "text/plain": [
       "array([1, 2, 1, 2, 0])"
      ]
     },
     "execution_count": 152,
     "metadata": {},
     "output_type": "execute_result"
    }
   ],
   "source": [
    "np.random.randint(3,size=5) # 3-1 tak means 0,1,2 me se random 5 bar print hoga"
   ]
  },
  {
   "cell_type": "code",
   "execution_count": 153,
   "id": "276305dc-c93b-4971-bcc6-921d44866bed",
   "metadata": {},
   "outputs": [
    {
     "data": {
      "text/plain": [
       "array([1, 0, 0, 0, 0])"
      ]
     },
     "execution_count": 153,
     "metadata": {},
     "output_type": "execute_result"
    }
   ],
   "source": [
    "a=np.random.randint(2,size=5)\n",
    "a"
   ]
  },
  {
   "cell_type": "code",
   "execution_count": 154,
   "id": "92d543cd-81c9-4b41-b0df-e754a0f606ca",
   "metadata": {},
   "outputs": [
    {
     "data": {
      "text/plain": [
       "array([[1, 2, 3, 4],\n",
       "       [2, 2, 4, 0]])"
      ]
     },
     "execution_count": 154,
     "metadata": {},
     "output_type": "execute_result"
    }
   ],
   "source": [
    "np.random.randint(5, size=(2, 4)) # 2*4 matrix and 0 to 4 numbers"
   ]
  },
  {
   "cell_type": "code",
   "execution_count": 155,
   "id": "90dc4fd5-df31-4186-acd5-4846d4ec4f1b",
   "metadata": {},
   "outputs": [
    {
     "data": {
      "text/plain": [
       "array([1, 1, 5])"
      ]
     },
     "execution_count": 155,
     "metadata": {},
     "output_type": "execute_result"
    }
   ],
   "source": [
    "np.random.randint(1, [3, 5, 10]) # lowest value 1, and upper bount is given accordingly"
   ]
  },
  {
   "cell_type": "code",
   "execution_count": 156,
   "id": "e6812e7b-cb23-4096-97a2-9680507f9c11",
   "metadata": {},
   "outputs": [
    {
     "data": {
      "text/plain": [
       "array([ 7,  6, 10])"
      ]
     },
     "execution_count": 156,
     "metadata": {},
     "output_type": "execute_result"
    }
   ],
   "source": [
    "np.random.randint([3, 5, 10],11) # lower bound is given and highest value 11 ho skti hai"
   ]
  },
  {
   "cell_type": "code",
   "execution_count": 157,
   "id": "2d15d818-0995-4704-9f32-9dd4b8b9db97",
   "metadata": {},
   "outputs": [
    {
     "data": {
      "text/plain": [
       "array([[ 5,  5, 10],\n",
       "       [ 7,  7,  6]])"
      ]
     },
     "execution_count": 157,
     "metadata": {},
     "output_type": "execute_result"
    }
   ],
   "source": [
    "np.random.randint([[3, 5, 10],[2,7,6]],11) # jo ordfer ka matrix doge utne order ka milega"
   ]
  },
  {
   "cell_type": "code",
   "execution_count": 158,
   "id": "24ef555b-1f5a-450d-9a84-8ad4490d9e2f",
   "metadata": {},
   "outputs": [
    {
     "data": {
      "text/plain": [
       "array([10,  6,  4,  8, 10,  6, 10,  3])"
      ]
     },
     "execution_count": 158,
     "metadata": {},
     "output_type": "execute_result"
    }
   ],
   "source": [
    "np.random.randint(2,11,8) # lower bound 2, upper bound 11, size 8 hai"
   ]
  },
  {
   "cell_type": "markdown",
   "id": "ba8c904d-d0f8-4ada-88dc-e030c438a118",
   "metadata": {},
   "source": [
    "## array attributes"
   ]
  },
  {
   "cell_type": "code",
   "execution_count": 159,
   "id": "bc03c48b-5997-4c34-a0f1-fcca91c9ee17",
   "metadata": {},
   "outputs": [
    {
     "data": {
      "text/plain": [
       "array([[1, 3, 2],\n",
       "       [3, 6, 7],\n",
       "       [9, 7, 5]])"
      ]
     },
     "execution_count": 159,
     "metadata": {},
     "output_type": "execute_result"
    }
   ],
   "source": [
    "arr=np.array([[1,3,2],[3,6,7],[9,7,5]])\n",
    "arr"
   ]
  },
  {
   "cell_type": "code",
   "execution_count": 160,
   "id": "e9d065ce-d1f8-4213-b64c-067c85b2915d",
   "metadata": {},
   "outputs": [
    {
     "data": {
      "text/plain": [
       "(3, 3)"
      ]
     },
     "execution_count": 160,
     "metadata": {},
     "output_type": "execute_result"
    }
   ],
   "source": [
    "arr.shape"
   ]
  },
  {
   "cell_type": "code",
   "execution_count": 161,
   "id": "a66b76e4-9ea7-402a-96a2-3f79a4d6f57d",
   "metadata": {},
   "outputs": [
    {
     "data": {
      "text/plain": [
       "9"
      ]
     },
     "execution_count": 161,
     "metadata": {},
     "output_type": "execute_result"
    }
   ],
   "source": [
    "arr.size"
   ]
  },
  {
   "cell_type": "code",
   "execution_count": 162,
   "id": "b45aa3b4-3de7-4309-baa0-f5f001b4d033",
   "metadata": {},
   "outputs": [
    {
     "data": {
      "text/plain": [
       "dtype('int32')"
      ]
     },
     "execution_count": 162,
     "metadata": {},
     "output_type": "execute_result"
    }
   ],
   "source": [
    "arr.dtype"
   ]
  },
  {
   "cell_type": "markdown",
   "id": "1faee5c3-1b96-4b0d-98b6-09fe672bfc2c",
   "metadata": {},
   "source": [
    "## array method"
   ]
  },
  {
   "cell_type": "code",
   "execution_count": 164,
   "id": "df2c7a65-c5c0-478d-bd0f-84e94b115bb6",
   "metadata": {},
   "outputs": [
    {
     "data": {
      "text/plain": [
       "array([[1, 3, 2],\n",
       "       [3, 6, 7],\n",
       "       [9, 7, 5]])"
      ]
     },
     "execution_count": 164,
     "metadata": {},
     "output_type": "execute_result"
    }
   ],
   "source": [
    "arr # call the latest array created"
   ]
  },
  {
   "cell_type": "code",
   "execution_count": 165,
   "id": "ba8ef920-6024-4ed2-9db4-8183248c20b6",
   "metadata": {},
   "outputs": [
    {
     "data": {
      "text/plain": [
       "1"
      ]
     },
     "execution_count": 165,
     "metadata": {},
     "output_type": "execute_result"
    }
   ],
   "source": [
    "arr.min()"
   ]
  },
  {
   "cell_type": "code",
   "execution_count": 166,
   "id": "be302e4b-e7ad-4acb-b0c9-c9d6182b725f",
   "metadata": {},
   "outputs": [
    {
     "data": {
      "text/plain": [
       "9"
      ]
     },
     "execution_count": 166,
     "metadata": {},
     "output_type": "execute_result"
    }
   ],
   "source": [
    "arr.max()"
   ]
  },
  {
   "cell_type": "code",
   "execution_count": 168,
   "id": "c4cd6174-ba89-4ac3-bab5-e781a0026707",
   "metadata": {},
   "outputs": [
    {
     "data": {
      "text/plain": [
       "43"
      ]
     },
     "execution_count": 168,
     "metadata": {},
     "output_type": "execute_result"
    }
   ],
   "source": [
    "arr.sum() # inbuilt sum fnction "
   ]
  },
  {
   "cell_type": "code",
   "execution_count": 169,
   "id": "6ef90b0b-217a-4d1a-a476-4477ac67e6e1",
   "metadata": {},
   "outputs": [
    {
     "data": {
      "text/plain": [
       "array([13, 16, 14])"
      ]
     },
     "execution_count": 169,
     "metadata": {},
     "output_type": "execute_result"
    }
   ],
   "source": [
    "np.sum(arr,axis=0)"
   ]
  },
  {
   "cell_type": "code",
   "execution_count": 170,
   "id": "9548ace6-272e-4317-aabc-fe07dc2d9b88",
   "metadata": {},
   "outputs": [
    {
     "data": {
      "text/plain": [
       "array([ 6, 16, 21])"
      ]
     },
     "execution_count": 170,
     "metadata": {},
     "output_type": "execute_result"
    }
   ],
   "source": [
    "np.sum(arr,axis=1)"
   ]
  },
  {
   "cell_type": "code",
   "execution_count": 172,
   "id": "97993d27-2aa8-41e8-8b2b-5ba8086bb00e",
   "metadata": {},
   "outputs": [
    {
     "data": {
      "text/plain": [
       "4.777777777777778"
      ]
     },
     "execution_count": 172,
     "metadata": {},
     "output_type": "execute_result"
    }
   ],
   "source": [
    "arr.mean()"
   ]
  },
  {
   "cell_type": "code",
   "execution_count": 177,
   "id": "caa9793d-c892-42b1-90cc-24d1f0e180af",
   "metadata": {},
   "outputs": [
    {
     "data": {
      "text/plain": [
       "2.528845928164676"
      ]
     },
     "execution_count": 177,
     "metadata": {},
     "output_type": "execute_result"
    }
   ],
   "source": [
    "arr.std() # standard deviation of given arr matrix element"
   ]
  },
  {
   "cell_type": "code",
   "execution_count": 178,
   "id": "8f432ef8-843a-47a0-ae1e-2be4348b1ba4",
   "metadata": {},
   "outputs": [
    {
     "data": {
      "text/plain": [
       "0"
      ]
     },
     "execution_count": 178,
     "metadata": {},
     "output_type": "execute_result"
    }
   ],
   "source": [
    "arr.argmin() # min element ka index"
   ]
  },
  {
   "cell_type": "code",
   "execution_count": 179,
   "id": "f35c13f0-636a-4d27-8f58-4f08c393ea3b",
   "metadata": {},
   "outputs": [
    {
     "data": {
      "text/plain": [
       "6"
      ]
     },
     "execution_count": 179,
     "metadata": {},
     "output_type": "execute_result"
    }
   ],
   "source": [
    "arr.argmax() # max element ka index"
   ]
  },
  {
   "cell_type": "markdown",
   "id": "a795ad3e-bcc1-468f-b36a-cb25459a522e",
   "metadata": {},
   "source": [
    "## reshaping and resizing"
   ]
  },
  {
   "cell_type": "code",
   "execution_count": 181,
   "id": "5c574c1a-80b5-4152-8586-a7fe07298881",
   "metadata": {},
   "outputs": [
    {
     "data": {
      "text/plain": [
       "array([ 1,  2,  3,  4,  5,  6,  7,  8,  9, 10, 11, 12, 13, 14, 15, 16, 17,\n",
       "       18, 19, 20, 21, 22, 23, 24, 25, 26, 27, 28, 29, 30])"
      ]
     },
     "execution_count": 181,
     "metadata": {},
     "output_type": "execute_result"
    }
   ],
   "source": [
    "arr=np.arange(1,31)\n",
    "arr"
   ]
  },
  {
   "cell_type": "code",
   "execution_count": 182,
   "id": "818b5b99-b930-4ce3-ad80-17555b5b275f",
   "metadata": {},
   "outputs": [
    {
     "data": {
      "text/plain": [
       "array([[ 1,  2,  3,  4,  5],\n",
       "       [ 6,  7,  8,  9, 10],\n",
       "       [11, 12, 13, 14, 15],\n",
       "       [16, 17, 18, 19, 20],\n",
       "       [21, 22, 23, 24, 25],\n",
       "       [26, 27, 28, 29, 30]])"
      ]
     },
     "execution_count": 182,
     "metadata": {},
     "output_type": "execute_result"
    }
   ],
   "source": [
    "arr.reshape(6,5)"
   ]
  },
  {
   "cell_type": "code",
   "execution_count": 185,
   "id": "55e84858-94a0-40af-935d-c2c24e281042",
   "metadata": {},
   "outputs": [],
   "source": [
    "arr=arr.reshape(6,5)"
   ]
  },
  {
   "cell_type": "code",
   "execution_count": 186,
   "id": "c214c1bb-eb73-4f60-89b9-4145b4b60d1a",
   "metadata": {},
   "outputs": [
    {
     "data": {
      "text/plain": [
       "array([[ 1,  2,  3,  4,  5],\n",
       "       [ 6,  7,  8,  9, 10],\n",
       "       [11, 12, 13, 14, 15],\n",
       "       [16, 17, 18, 19, 20],\n",
       "       [21, 22, 23, 24, 25],\n",
       "       [26, 27, 28, 29, 30]])"
      ]
     },
     "execution_count": 186,
     "metadata": {},
     "output_type": "execute_result"
    }
   ],
   "source": [
    "arr"
   ]
  },
  {
   "cell_type": "code",
   "execution_count": null,
   "id": "2287e723-ac37-490e-bd07-63d4f89c0663",
   "metadata": {},
   "outputs": [],
   "source": []
  }
 ],
 "metadata": {
  "kernelspec": {
   "display_name": "Python 3 (ipykernel)",
   "language": "python",
   "name": "python3"
  },
  "language_info": {
   "codemirror_mode": {
    "name": "ipython",
    "version": 3
   },
   "file_extension": ".py",
   "mimetype": "text/x-python",
   "name": "python",
   "nbconvert_exporter": "python",
   "pygments_lexer": "ipython3",
   "version": "3.12.7"
  }
 },
 "nbformat": 4,
 "nbformat_minor": 5
}
