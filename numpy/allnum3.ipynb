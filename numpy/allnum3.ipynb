{
 "cells": [
  {
   "cell_type": "markdown",
   "id": "78330481-589e-4331-a23a-3921858ee4be",
   "metadata": {},
   "source": [
    "# array operations"
   ]
  },
  {
   "cell_type": "code",
   "execution_count": 1,
   "id": "1b4b3a74-5d77-4fe8-83a2-f101b9ebc6f4",
   "metadata": {},
   "outputs": [],
   "source": [
    "import numpy as np"
   ]
  },
  {
   "cell_type": "markdown",
   "id": "c00a1f20-8b9f-4351-a919-d01343ffd960",
   "metadata": {},
   "source": [
    "## array operations"
   ]
  },
  {
   "cell_type": "code",
   "execution_count": 42,
   "id": "b79361e7-3b03-4a4a-9270-b5612a0e4fe2",
   "metadata": {},
   "outputs": [],
   "source": [
    "a1= np.array([1,2,3,4,5]) #this is vector\n",
    "a2=np.array([1,6,5,7,9])"
   ]
  },
  {
   "cell_type": "code",
   "execution_count": 29,
   "id": "1a0d875c-ac12-4d36-b690-1785bac587b7",
   "metadata": {},
   "outputs": [
    {
     "data": {
      "text/plain": [
       "array([ 2,  8,  8, 11, 14])"
      ]
     },
     "execution_count": 29,
     "metadata": {},
     "output_type": "execute_result"
    }
   ],
   "source": [
    "a1+a2"
   ]
  },
  {
   "cell_type": "code",
   "execution_count": 30,
   "id": "01472f9c-f7e6-40ea-846a-4aaa9c0381d6",
   "metadata": {},
   "outputs": [
    {
     "data": {
      "text/plain": [
       "array([ 0, -4, -2, -3, -4])"
      ]
     },
     "execution_count": 30,
     "metadata": {},
     "output_type": "execute_result"
    }
   ],
   "source": [
    "a1-a2 # we need to take same lenght array to add or subs"
   ]
  },
  {
   "cell_type": "code",
   "execution_count": 33,
   "id": "de9db9bf-3ae8-491a-8355-0a7e16606233",
   "metadata": {},
   "outputs": [
    {
     "data": {
      "text/plain": [
       "array([ 1, 12, 15, 28, 45])"
      ]
     },
     "execution_count": 33,
     "metadata": {},
     "output_type": "execute_result"
    }
   ],
   "source": [
    "a1*a2"
   ]
  },
  {
   "cell_type": "code",
   "execution_count": 34,
   "id": "0f1a22f5-a44c-46f1-8c7c-58804d2c8ed5",
   "metadata": {},
   "outputs": [
    {
     "data": {
      "text/plain": [
       "array([1.        , 0.33333333, 0.6       , 0.57142857, 0.55555556])"
      ]
     },
     "execution_count": 34,
     "metadata": {},
     "output_type": "execute_result"
    }
   ],
   "source": [
    "a1/a2"
   ]
  },
  {
   "cell_type": "code",
   "execution_count": 36,
   "id": "31fbda00-cfc1-46c9-804e-7f68e178929d",
   "metadata": {},
   "outputs": [
    {
     "data": {
      "text/plain": [
       "array([      1,      64,     243,   16384, 1953125])"
      ]
     },
     "execution_count": 36,
     "metadata": {},
     "output_type": "execute_result"
    }
   ],
   "source": [
    "a1**a2 # corresponding element take power, 2^6"
   ]
  },
  {
   "cell_type": "code",
   "execution_count": 37,
   "id": "ff5f7f76-c486-4062-a77e-3d0a32582b50",
   "metadata": {},
   "outputs": [
    {
     "data": {
      "text/plain": [
       "array([1, 0, 0, 0, 0])"
      ]
     },
     "execution_count": 37,
     "metadata": {},
     "output_type": "execute_result"
    }
   ],
   "source": [
    "a1//a2 # corresponding element give output integer value only"
   ]
  },
  {
   "cell_type": "code",
   "execution_count": null,
   "id": "9fc2f439-b436-4586-a83a-8825a378e0d5",
   "metadata": {},
   "outputs": [],
   "source": []
  },
  {
   "cell_type": "markdown",
   "id": "09c315ac-ff74-4fcc-9ce5-7d3eb7e41c3a",
   "metadata": {},
   "source": [
    "## broadcasting"
   ]
  },
  {
   "cell_type": "code",
   "execution_count": 46,
   "id": "7c5e49f8-c1e9-4613-9c37-a4257744c920",
   "metadata": {},
   "outputs": [
    {
     "name": "stdout",
     "output_type": "stream",
     "text": [
      "[20, 30, 40, 55, 44, 100]\n"
     ]
    }
   ],
   "source": [
    "l=[10,20,30,45,34,90] # add 10 in every element\n",
    "q=[]\n",
    "for i in l:\n",
    "    i=i+10\n",
    "    q.append(i)\n",
    "print(q)"
   ]
  },
  {
   "cell_type": "code",
   "execution_count": 47,
   "id": "610d8adc-142f-4146-b02e-68cee2828018",
   "metadata": {},
   "outputs": [
    {
     "data": {
      "text/plain": [
       "array([ 20,  30,  40,  55,  44, 100])"
      ]
     },
     "execution_count": 47,
     "metadata": {},
     "output_type": "execute_result"
    }
   ],
   "source": [
    "l=[10,20,30,45,34,90] # now with the help of array\n",
    "arr=np.array(l)\n",
    "arr+10 # this is broadcasting"
   ]
  },
  {
   "cell_type": "code",
   "execution_count": 48,
   "id": "91708daf-d823-40f6-b5e4-68b79a92b0b9",
   "metadata": {},
   "outputs": [
    {
     "data": {
      "text/plain": [
       "array([[1, 2, 3],\n",
       "       [4, 5, 6],\n",
       "       [7, 8, 9]])"
      ]
     },
     "execution_count": 48,
     "metadata": {},
     "output_type": "execute_result"
    }
   ],
   "source": [
    "arr2=np.arange(1,10).reshape(3,3)\n",
    "arr2"
   ]
  },
  {
   "cell_type": "code",
   "execution_count": 50,
   "id": "d37f0070-88f8-4bf7-a09f-b17b74b2192d",
   "metadata": {},
   "outputs": [
    {
     "data": {
      "text/plain": [
       "array([[11, 12, 13],\n",
       "       [14, 15, 16],\n",
       "       [17, 18, 19]])"
      ]
     },
     "execution_count": 50,
     "metadata": {},
     "output_type": "execute_result"
    }
   ],
   "source": [
    "arr2+10 # here, u broadcast and didnot save, then u cannot call further this function"
   ]
  },
  {
   "cell_type": "code",
   "execution_count": 65,
   "id": "203ed347-3416-43eb-a9fe-b1fcb5dc27d5",
   "metadata": {},
   "outputs": [
    {
     "data": {
      "text/plain": [
       "array([[11, 12, 13],\n",
       "       [14, 15, 16],\n",
       "       [17, 18, 19]])"
      ]
     },
     "execution_count": 65,
     "metadata": {},
     "output_type": "execute_result"
    }
   ],
   "source": [
    "arr3=arr2+10\n",
    "arr3 # here, u are broadcasted and saved, so can call further"
   ]
  },
  {
   "cell_type": "code",
   "execution_count": 56,
   "id": "ba0dd02a-d148-4f7b-97a0-266cf7e37068",
   "metadata": {},
   "outputs": [
    {
     "data": {
      "text/plain": [
       "array([[11, 12, 13],\n",
       "       [14, 15, 16],\n",
       "       [17, 18, 19]])"
      ]
     },
     "execution_count": 56,
     "metadata": {},
     "output_type": "execute_result"
    }
   ],
   "source": [
    "arr3"
   ]
  },
  {
   "cell_type": "code",
   "execution_count": 57,
   "id": "6f817692-cac8-40c4-849b-b9a29f33cebc",
   "metadata": {},
   "outputs": [
    {
     "data": {
      "text/plain": [
       "array([[22, 24, 26],\n",
       "       [28, 30, 32],\n",
       "       [34, 36, 38]])"
      ]
     },
     "execution_count": 57,
     "metadata": {},
     "output_type": "execute_result"
    }
   ],
   "source": [
    "arr3*2"
   ]
  },
  {
   "cell_type": "code",
   "execution_count": 66,
   "id": "5db199d5-daea-4656-8585-2a2c4c6a09b2",
   "metadata": {},
   "outputs": [
    {
     "data": {
      "text/plain": [
       "array([[11, 12, 13],\n",
       "       [14, 15, 16],\n",
       "       [17, 18, 19]])"
      ]
     },
     "execution_count": 66,
     "metadata": {},
     "output_type": "execute_result"
    }
   ],
   "source": [
    "arr3"
   ]
  },
  {
   "cell_type": "markdown",
   "id": "e187b2a0-3ef8-48e2-a9b6-724114503071",
   "metadata": {},
   "source": [
    "## deep and shallow copy"
   ]
  },
  {
   "cell_type": "code",
   "execution_count": 114,
   "id": "579d944e-f18e-43f7-a898-5ee3c5085858",
   "metadata": {},
   "outputs": [
    {
     "data": {
      "text/plain": [
       "array([ 0,  1,  2,  3,  4,  5,  6,  7,  8,  9, 10, 11, 12, 13, 14, 15, 16,\n",
       "       17, 18, 19, 20])"
      ]
     },
     "execution_count": 114,
     "metadata": {},
     "output_type": "execute_result"
    }
   ],
   "source": [
    "a=np.arange(0,21)\n",
    "a"
   ]
  },
  {
   "cell_type": "code",
   "execution_count": 115,
   "id": "bda0cd87-e8ab-4c8a-8651-32f4705cb5e9",
   "metadata": {},
   "outputs": [
    {
     "data": {
      "text/plain": [
       "array([ 0, 10, 20, 30, 40, 50])"
      ]
     },
     "execution_count": 115,
     "metadata": {},
     "output_type": "execute_result"
    }
   ],
   "source": [
    "slice=a[:6]\n",
    "slice=slice*10\n",
    "slice"
   ]
  },
  {
   "cell_type": "code",
   "execution_count": 116,
   "id": "aec85145-a9d1-463f-88ca-82cfef90ed46",
   "metadata": {},
   "outputs": [
    {
     "data": {
      "text/plain": [
       "array([ 0,  1,  2,  3,  4,  5,  6,  7,  8,  9, 10, 11, 12, 13, 14, 15, 16,\n",
       "       17, 18, 19, 20])"
      ]
     },
     "execution_count": 116,
     "metadata": {},
     "output_type": "execute_result"
    }
   ],
   "source": [
    "a"
   ]
  },
  {
   "cell_type": "code",
   "execution_count": 117,
   "id": "72e59bb0-3dc2-4110-81dc-549f8ecdbc4b",
   "metadata": {},
   "outputs": [
    {
     "data": {
      "text/plain": [
       "array([15, 20, 25, 30])"
      ]
     },
     "execution_count": 117,
     "metadata": {},
     "output_type": "execute_result"
    }
   ],
   "source": [
    "a[3:7]*5"
   ]
  },
  {
   "cell_type": "code",
   "execution_count": 118,
   "id": "e50c38ae-8a99-4530-8412-e7f86bc5f586",
   "metadata": {},
   "outputs": [
    {
     "data": {
      "text/plain": [
       "array([ 0,  1,  2,  3,  4,  5,  6,  7,  8,  9, 10, 11, 12, 13, 14, 15, 16,\n",
       "       17, 18, 19, 20])"
      ]
     },
     "execution_count": 118,
     "metadata": {},
     "output_type": "execute_result"
    }
   ],
   "source": [
    "a #after shallow copy, it means when u slice an array, it will take a different memory location, \n",
    "# after changing in sliced array, it will not affect parent array"
   ]
  },
  {
   "cell_type": "code",
   "execution_count": 119,
   "id": "0fd8ed6c-05cc-45f2-aa31-f02f04854241",
   "metadata": {},
   "outputs": [],
   "source": [
    "b=a"
   ]
  },
  {
   "cell_type": "code",
   "execution_count": 120,
   "id": "2b72c8fe-f891-4973-94b2-390659827838",
   "metadata": {},
   "outputs": [],
   "source": [
    "b[0]=90"
   ]
  },
  {
   "cell_type": "code",
   "execution_count": 121,
   "id": "68a4aadd-7618-4359-8230-264c1f757aa5",
   "metadata": {},
   "outputs": [
    {
     "data": {
      "text/plain": [
       "array([90,  1,  2,  3,  4,  5,  6,  7,  8,  9, 10, 11, 12, 13, 14, 15, 16,\n",
       "       17, 18, 19, 20])"
      ]
     },
     "execution_count": 121,
     "metadata": {},
     "output_type": "execute_result"
    }
   ],
   "source": [
    "b"
   ]
  },
  {
   "cell_type": "code",
   "execution_count": 122,
   "id": "a0f17088-97db-4447-b370-f79fcef80e4f",
   "metadata": {},
   "outputs": [
    {
     "data": {
      "text/plain": [
       "array([90,  1,  2,  3,  4,  5,  6,  7,  8,  9, 10, 11, 12, 13, 14, 15, 16,\n",
       "       17, 18, 19, 20])"
      ]
     },
     "execution_count": 122,
     "metadata": {},
     "output_type": "execute_result"
    }
   ],
   "source": [
    "a  #after deep copy, it means when u store an array in different variable, it will take a same memory location, \n",
    "# after changing in that array, it will affect parent array"
   ]
  },
  {
   "cell_type": "code",
   "execution_count": 123,
   "id": "e1b0df52-196e-408b-8df4-b0de8948f39d",
   "metadata": {},
   "outputs": [],
   "source": [
    "b=a.copy()"
   ]
  },
  {
   "cell_type": "code",
   "execution_count": 124,
   "id": "aeaf45e6-9d54-42dc-b847-89a09bf653ba",
   "metadata": {},
   "outputs": [],
   "source": [
    "b[0]=12"
   ]
  },
  {
   "cell_type": "code",
   "execution_count": 125,
   "id": "e3962f38-4b48-49ff-a838-29500269f16a",
   "metadata": {},
   "outputs": [
    {
     "data": {
      "text/plain": [
       "array([12,  1,  2,  3,  4,  5,  6,  7,  8,  9, 10, 11, 12, 13, 14, 15, 16,\n",
       "       17, 18, 19, 20])"
      ]
     },
     "execution_count": 125,
     "metadata": {},
     "output_type": "execute_result"
    }
   ],
   "source": [
    "b"
   ]
  },
  {
   "cell_type": "code",
   "execution_count": 126,
   "id": "2c97bdac-e0a1-4609-9b44-92e031e8e4b5",
   "metadata": {},
   "outputs": [
    {
     "data": {
      "text/plain": [
       "array([90,  1,  2,  3,  4,  5,  6,  7,  8,  9, 10, 11, 12, 13, 14, 15, 16,\n",
       "       17, 18, 19, 20])"
      ]
     },
     "execution_count": 126,
     "metadata": {},
     "output_type": "execute_result"
    }
   ],
   "source": [
    "a"
   ]
  },
  {
   "cell_type": "code",
   "execution_count": 154,
   "id": "67c8179b-7fd4-458b-9262-b18fe9b16e56",
   "metadata": {},
   "outputs": [
    {
     "data": {
      "text/plain": [
       "array([[1],\n",
       "       [2],\n",
       "       [3]])"
      ]
     },
     "execution_count": 154,
     "metadata": {},
     "output_type": "execute_result"
    }
   ],
   "source": [
    "v=np.array([1,2,3])\n",
    "v_row=v.reshape(1,3)\n",
    "v_col=v.reshape(3,1)\n",
    "v_col"
   ]
  },
  {
   "cell_type": "code",
   "execution_count": 155,
   "id": "90c4f9e9-ca2e-41e5-8a67-21c97240dabe",
   "metadata": {},
   "outputs": [
    {
     "data": {
      "text/plain": [
       "array([[1, 2, 3]])"
      ]
     },
     "execution_count": 155,
     "metadata": {},
     "output_type": "execute_result"
    }
   ],
   "source": [
    "v_row"
   ]
  },
  {
   "cell_type": "markdown",
   "id": "2b99bcc6-e0a3-4aab-80f6-232d7da7084e",
   "metadata": {},
   "source": [
    "## matrix operation"
   ]
  },
  {
   "cell_type": "code",
   "execution_count": 131,
   "id": "4719ef5c-0c22-4a65-bad4-01da2e520eb7",
   "metadata": {},
   "outputs": [
    {
     "data": {
      "text/plain": [
       "array([[ 7, 16],\n",
       "       [15, 24]])"
      ]
     },
     "execution_count": 131,
     "metadata": {},
     "output_type": "execute_result"
    }
   ],
   "source": [
    "A=np.array([[1,2],[3,4]])\n",
    "B=np.array([[7,8],[5,6]])\n",
    "A*B # THIS IS A INDEX METHOD MULTIPLICATION, WE WANT MATRIX MULTIPLICATION"
   ]
  },
  {
   "cell_type": "code",
   "execution_count": 133,
   "id": "53acb9f9-c224-44eb-8a6c-d45d37066da5",
   "metadata": {},
   "outputs": [
    {
     "data": {
      "text/plain": [
       "array([[17, 20],\n",
       "       [41, 48]])"
      ]
     },
     "execution_count": 133,
     "metadata": {},
     "output_type": "execute_result"
    }
   ],
   "source": [
    "A@B # THIS IS MATRIX MULTIPLICATION"
   ]
  },
  {
   "cell_type": "code",
   "execution_count": 134,
   "id": "220017f0-181d-4bba-86de-b0cd380db7b9",
   "metadata": {},
   "outputs": [
    {
     "data": {
      "text/plain": [
       "array([[17, 20],\n",
       "       [41, 48]])"
      ]
     },
     "execution_count": 134,
     "metadata": {},
     "output_type": "execute_result"
    }
   ],
   "source": [
    "np.dot(A,B)"
   ]
  },
  {
   "cell_type": "code",
   "execution_count": 136,
   "id": "deb81a63-e04c-402b-a780-a6d124a3c1c7",
   "metadata": {},
   "outputs": [
    {
     "data": {
      "text/plain": [
       "array([[1, 3],\n",
       "       [2, 4]])"
      ]
     },
     "execution_count": 136,
     "metadata": {},
     "output_type": "execute_result"
    }
   ],
   "source": [
    "A.T"
   ]
  },
  {
   "cell_type": "code",
   "execution_count": 138,
   "id": "c21ce648-44a1-4d69-a6bb-2ae23c39d073",
   "metadata": {},
   "outputs": [
    {
     "data": {
      "text/plain": [
       "array([[7, 5],\n",
       "       [8, 6]])"
      ]
     },
     "execution_count": 138,
     "metadata": {},
     "output_type": "execute_result"
    }
   ],
   "source": [
    "B.T # TRANSPOSE THE MATRIX"
   ]
  },
  {
   "cell_type": "markdown",
   "id": "7b88a885-cdfa-4822-a7b5-9d2c47c0e8b8",
   "metadata": {},
   "source": [
    "## STACKING ARRAY"
   ]
  },
  {
   "cell_type": "code",
   "execution_count": 144,
   "id": "9922a870-21cb-4ffd-ba54-b233bb1916e7",
   "metadata": {},
   "outputs": [],
   "source": [
    "a=np.arange(1,5)\n",
    "b=np.arange(6,10)"
   ]
  },
  {
   "cell_type": "code",
   "execution_count": 145,
   "id": "f66c768f-2409-456f-ba4c-7a62e1993fcd",
   "metadata": {},
   "outputs": [
    {
     "data": {
      "text/plain": [
       "array([1, 2, 3, 4])"
      ]
     },
     "execution_count": 145,
     "metadata": {},
     "output_type": "execute_result"
    }
   ],
   "source": [
    "a"
   ]
  },
  {
   "cell_type": "code",
   "execution_count": 146,
   "id": "e8ddbb1a-6f8a-4830-a001-fe7f773bed3a",
   "metadata": {},
   "outputs": [
    {
     "data": {
      "text/plain": [
       "array([6, 7, 8, 9])"
      ]
     },
     "execution_count": 146,
     "metadata": {},
     "output_type": "execute_result"
    }
   ],
   "source": [
    "b"
   ]
  },
  {
   "cell_type": "code",
   "execution_count": 147,
   "id": "5d7a1b00-31ab-4e30-b938-a14fe06ddeac",
   "metadata": {},
   "outputs": [
    {
     "data": {
      "text/plain": [
       "array([[1, 2, 3, 4],\n",
       "       [6, 7, 8, 9]])"
      ]
     },
     "execution_count": 147,
     "metadata": {},
     "output_type": "execute_result"
    }
   ],
   "source": [
    "np.vstack((a,b))"
   ]
  },
  {
   "cell_type": "code",
   "execution_count": 148,
   "id": "f4fbceda-4b5e-482e-8485-3c544681f96f",
   "metadata": {},
   "outputs": [
    {
     "data": {
      "text/plain": [
       "array([1, 2, 3, 4, 6, 7, 8, 9])"
      ]
     },
     "execution_count": 148,
     "metadata": {},
     "output_type": "execute_result"
    }
   ],
   "source": [
    "np.hstack((a,b))"
   ]
  },
  {
   "cell_type": "code",
   "execution_count": 149,
   "id": "07f3b6eb-f478-49d0-a940-2d27d0d778fb",
   "metadata": {},
   "outputs": [
    {
     "data": {
      "text/plain": [
       "array([[1, 6],\n",
       "       [2, 7],\n",
       "       [3, 8],\n",
       "       [4, 9]])"
      ]
     },
     "execution_count": 149,
     "metadata": {},
     "output_type": "execute_result"
    }
   ],
   "source": [
    "np.column_stack((a,b))"
   ]
  },
  {
   "cell_type": "markdown",
   "id": "7cbcc0db-d7bd-41a2-8c37-689fa66a80fb",
   "metadata": {},
   "source": [
    "## splitting array"
   ]
  },
  {
   "cell_type": "code",
   "execution_count": 151,
   "id": "7a67dc13-111a-407d-86c3-c2e8f7d11baf",
   "metadata": {},
   "outputs": [
    {
     "data": {
      "text/plain": [
       "array([[ 0,  1,  2,  3],\n",
       "       [ 4,  5,  6,  7],\n",
       "       [ 8,  9, 10, 11],\n",
       "       [12, 13, 14, 15]])"
      ]
     },
     "execution_count": 151,
     "metadata": {},
     "output_type": "execute_result"
    }
   ],
   "source": [
    "c=np.arange(16).reshape(4,4)\n",
    "c"
   ]
  },
  {
   "cell_type": "code",
   "execution_count": 157,
   "id": "73a77749-463e-466d-b228-4826a01e6117",
   "metadata": {},
   "outputs": [
    {
     "data": {
      "text/plain": [
       "[array([[ 0,  1],\n",
       "        [ 4,  5],\n",
       "        [ 8,  9],\n",
       "        [12, 13]]),\n",
       " array([[ 2,  3],\n",
       "        [ 6,  7],\n",
       "        [10, 11],\n",
       "        [14, 15]])]"
      ]
     },
     "execution_count": 157,
     "metadata": {},
     "output_type": "execute_result"
    }
   ],
   "source": [
    "np.hsplit(c,2)"
   ]
  },
  {
   "cell_type": "code",
   "execution_count": 160,
   "id": "f8cfd4d2-6641-4a1c-ba43-883b92ad0ff9",
   "metadata": {},
   "outputs": [
    {
     "data": {
      "text/plain": [
       "[array([[0, 1, 2, 3],\n",
       "        [4, 5, 6, 7]]),\n",
       " array([[ 8,  9, 10, 11],\n",
       "        [12, 13, 14, 15]])]"
      ]
     },
     "execution_count": 160,
     "metadata": {},
     "output_type": "execute_result"
    }
   ],
   "source": [
    "np.vsplit(c,2)"
   ]
  },
  {
   "cell_type": "code",
   "execution_count": 165,
   "id": "2d8b63a7-29f8-4151-bf2f-91ebfe285431",
   "metadata": {},
   "outputs": [
    {
     "data": {
      "text/plain": [
       "[array([[ 0],\n",
       "        [ 4],\n",
       "        [ 8],\n",
       "        [12]]),\n",
       " array([[ 1],\n",
       "        [ 5],\n",
       "        [ 9],\n",
       "        [13]]),\n",
       " array([[ 2],\n",
       "        [ 6],\n",
       "        [10],\n",
       "        [14]]),\n",
       " array([[ 3],\n",
       "        [ 7],\n",
       "        [11],\n",
       "        [15]])]"
      ]
     },
     "execution_count": 165,
     "metadata": {},
     "output_type": "execute_result"
    }
   ],
   "source": [
    "np.hsplit(c,4)"
   ]
  },
  {
   "cell_type": "code",
   "execution_count": 171,
   "id": "a55f6547-598d-4456-8ec5-ddac57987fe1",
   "metadata": {},
   "outputs": [
    {
     "name": "stdout",
     "output_type": "stream",
     "text": [
      "[[0 1 2 3]]\n",
      "[[4 5 6 7]]\n",
      "[[ 8  9 10 11]]\n",
      "[[12 13 14 15]]\n"
     ]
    }
   ],
   "source": [
    "a=np.vsplit(c,4)\n",
    "for i in a:\n",
    "    print (i)"
   ]
  },
  {
   "cell_type": "code",
   "execution_count": null,
   "id": "5f3350cd-55df-4cbf-b4d6-1fc59fe1d28f",
   "metadata": {},
   "outputs": [],
   "source": []
  }
 ],
 "metadata": {
  "kernelspec": {
   "display_name": "Python 3 (ipykernel)",
   "language": "python",
   "name": "python3"
  },
  "language_info": {
   "codemirror_mode": {
    "name": "ipython",
    "version": 3
   },
   "file_extension": ".py",
   "mimetype": "text/x-python",
   "name": "python",
   "nbconvert_exporter": "python",
   "pygments_lexer": "ipython3",
   "version": "3.12.7"
  }
 },
 "nbformat": 4,
 "nbformat_minor": 5
}
