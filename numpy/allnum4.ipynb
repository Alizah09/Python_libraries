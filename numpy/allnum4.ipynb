{
 "cells": [
  {
   "cell_type": "markdown",
   "id": "0796ca7a-818b-45fd-81e8-d3d66c01d5c9",
   "metadata": {},
   "source": [
    "## valid sudoku"
   ]
  },
  {
   "cell_type": "code",
   "execution_count": 2,
   "id": "437c8fdc-96fe-43f4-be9e-6746391f44d1",
   "metadata": {},
   "outputs": [],
   "source": [
    "import numpy as np"
   ]
  },
  {
   "cell_type": "code",
   "execution_count": 11,
   "id": "8e3b530c-04a7-4902-98b6-66a795ea336d",
   "metadata": {},
   "outputs": [],
   "source": [
    "s = np.array([\n",
    "    [5, 3, 4, 6, 7, 8, 9, 1, 2],\n",
    "    [6, 7, 2, 1, 9, 5, 3, 4, 8],\n",
    "    [1, 9, 8, 3, 4, 2, 5, 6, 7],\n",
    "    \n",
    "    [8, 5, 9, 7, 6, 1, 4, 2, 3],\n",
    "    [4, 2, 6, 8, 5, 3, 7, 9, 1],\n",
    "    [7, 1, 3, 9, 2, 4, 8, 5, 6],\n",
    "    \n",
    "    [9, 6, 1, 5, 3, 7, 2, 8, 4],\n",
    "    [2, 8, 7, 4, 1, 9, 6, 3, 5],\n",
    "    [3, 4, 5, 2, 8, 6, 1, 7, 9]\n",
    "])"
   ]
  },
  {
   "cell_type": "code",
   "execution_count": 15,
   "id": "ff96de17-f43a-4a3d-9971-b2aa70f416e0",
   "metadata": {},
   "outputs": [
    {
     "data": {
      "text/plain": [
       "405"
      ]
     },
     "execution_count": 15,
     "metadata": {},
     "output_type": "execute_result"
    }
   ],
   "source": [
    "s.sum() # sum of whole matrix"
   ]
  },
  {
   "cell_type": "code",
   "execution_count": 16,
   "id": "180bcb8a-03ef-4b51-9327-a6320d061b20",
   "metadata": {},
   "outputs": [
    {
     "data": {
      "text/plain": [
       "array([45, 45, 45, 45, 45, 45, 45, 45, 45])"
      ]
     },
     "execution_count": 16,
     "metadata": {},
     "output_type": "execute_result"
    }
   ],
   "source": [
    "np.sum(s,0) #sum column wise"
   ]
  },
  {
   "cell_type": "code",
   "execution_count": 17,
   "id": "1e38e0f4-ff29-4329-9c73-f8b68045e005",
   "metadata": {},
   "outputs": [
    {
     "data": {
      "text/plain": [
       "array([45, 45, 45, 45, 45, 45, 45, 45, 45])"
      ]
     },
     "execution_count": 17,
     "metadata": {},
     "output_type": "execute_result"
    }
   ],
   "source": [
    "np.sum(s,1) # sum row wise"
   ]
  },
  {
   "cell_type": "code",
   "execution_count": 178,
   "id": "dad559d2-1e9e-4077-a2fe-bb5d14fdfa05",
   "metadata": {},
   "outputs": [
    {
     "data": {
      "text/plain": [
       "array([ True,  True,  True,  True,  True,  True,  True,  True,  True])"
      ]
     },
     "execution_count": 178,
     "metadata": {},
     "output_type": "execute_result"
    }
   ],
   "source": [
    "b=np.sum(s,1) # sum row wise\n",
    "b==45 #or"
   ]
  },
  {
   "cell_type": "code",
   "execution_count": 22,
   "id": "c4c60b5b-be09-4f74-b856-e8013545d42b",
   "metadata": {},
   "outputs": [
    {
     "name": "stdout",
     "output_type": "stream",
     "text": [
      "sudoku is valid for row\n"
     ]
    }
   ],
   "source": [
    "for i in b:\n",
    "    if i!=45:\n",
    "        print(\"sudoku is not valid\")\n",
    "        break\n",
    "else:\n",
    "        print(\"sudoku is valid for row\")"
   ]
  },
  {
   "cell_type": "code",
   "execution_count": 24,
   "id": "987b42c6-be7b-403f-b7bc-974679418477",
   "metadata": {},
   "outputs": [
    {
     "data": {
      "text/plain": [
       "array([ True,  True,  True,  True,  True,  True,  True,  True,  True])"
      ]
     },
     "execution_count": 24,
     "metadata": {},
     "output_type": "execute_result"
    }
   ],
   "source": [
    "c=np.sum(s,1) # sum row wise\n",
    "c==45 #or"
   ]
  },
  {
   "cell_type": "code",
   "execution_count": 25,
   "id": "05eb97f7-68fa-4335-a931-4a7032edc089",
   "metadata": {},
   "outputs": [
    {
     "name": "stdout",
     "output_type": "stream",
     "text": [
      "sudoku is valid for column\n"
     ]
    }
   ],
   "source": [
    "for i in c:\n",
    "    if i!=45:\n",
    "        print(\"sudoku is not valid\")\n",
    "        break\n",
    "else:\n",
    "        print(\"sudoku is valid for column\")"
   ]
  },
  {
   "cell_type": "code",
   "execution_count": 33,
   "id": "568b58de-f047-48c8-af8d-c8ae236010fd",
   "metadata": {},
   "outputs": [
    {
     "data": {
      "text/plain": [
       "array([[5, 3, 4],\n",
       "       [6, 7, 2],\n",
       "       [1, 9, 8]])"
      ]
     },
     "execution_count": 33,
     "metadata": {},
     "output_type": "execute_result"
    }
   ],
   "source": [
    "s[0:3,0:3]"
   ]
  },
  {
   "cell_type": "code",
   "execution_count": 34,
   "id": "bb1decc8-d153-4454-878b-75b1ff3418b8",
   "metadata": {},
   "outputs": [
    {
     "data": {
      "text/plain": [
       "array([[6, 7, 8],\n",
       "       [1, 9, 5],\n",
       "       [3, 4, 2]])"
      ]
     },
     "execution_count": 34,
     "metadata": {},
     "output_type": "execute_result"
    }
   ],
   "source": [
    "s[0:3,3:6]"
   ]
  },
  {
   "cell_type": "code",
   "execution_count": 40,
   "id": "0846c01e-e189-415a-90b4-63421b1a86a7",
   "metadata": {},
   "outputs": [
    {
     "data": {
      "text/plain": [
       "array([[9, 1, 2],\n",
       "       [3, 4, 8],\n",
       "       [5, 6, 7]])"
      ]
     },
     "execution_count": 40,
     "metadata": {},
     "output_type": "execute_result"
    }
   ],
   "source": [
    "s[0:3,6:9] #instead of doing this, let's create a loop"
   ]
  },
  {
   "cell_type": "code",
   "execution_count": 47,
   "id": "99fc9088-cc67-4124-87ab-4e62a4a8c48a",
   "metadata": {},
   "outputs": [
    {
     "name": "stdout",
     "output_type": "stream",
     "text": [
      "45\n",
      "45\n",
      "45\n",
      "45\n",
      "45\n",
      "45\n",
      "45\n",
      "45\n",
      "45\n"
     ]
    }
   ],
   "source": [
    "for i in range(0,9,3): # here in range 3 is step after 1 round it will go 3to6\n",
    "    for j in range(0,9,3):\n",
    "        # print(s[i:i+3,j:j+3]) it will print all 9 matrix of 3*3\n",
    "        n=s[i:i+3,j:j+3]\n",
    "        print(n.sum()) # since all 3*3 matrix element sum is same as sum of row amd column, this is valid sudoku"
   ]
  },
  {
   "cell_type": "code",
   "execution_count": 45,
   "id": "fd76b46c-7f99-4b32-bb68-d94202391f3e",
   "metadata": {},
   "outputs": [
    {
     "data": {
      "text/plain": [
       "array([[ 0.,  1.,  2.,  3.],\n",
       "       [ 4.,  5.,  6.,  7.],\n",
       "       [ 8.,  9., 10., 11.],\n",
       "       [12., 13., 14., 15.]])"
      ]
     },
     "execution_count": 45,
     "metadata": {},
     "output_type": "execute_result"
    }
   ],
   "source": [
    "x = np.arange(16.0).reshape(4, 4)\n",
    "x"
   ]
  },
  {
   "cell_type": "code",
   "execution_count": 51,
   "id": "1a63b87a-394f-46e6-9dce-3d7931ac74e9",
   "metadata": {},
   "outputs": [
    {
     "data": {
      "text/plain": [
       "[array([[ 0.,  1.,  2.],\n",
       "        [ 4.,  5.,  6.],\n",
       "        [ 8.,  9., 10.],\n",
       "        [12., 13., 14.]]),\n",
       " array([[ 3.],\n",
       "        [ 7.],\n",
       "        [11.],\n",
       "        [15.]]),\n",
       " array([], shape=(4, 0), dtype=float64)]"
      ]
     },
     "execution_count": 51,
     "metadata": {},
     "output_type": "execute_result"
    }
   ],
   "source": [
    "np.hsplit(x, np.array([3,6]))\n",
    "# since there is only 4 column and row, in horizontal split numpy doesnot show error it will give empty array remaining, 0 to 2(3-1) and print 3 column"
   ]
  },
  {
   "cell_type": "markdown",
   "id": "0fe9cf41-cd28-4c99-9262-b067bc1019f7",
   "metadata": {},
   "source": [
    "## general questions"
   ]
  },
  {
   "cell_type": "code",
   "execution_count": 117,
   "id": "047e9609-e014-4944-ab2a-598c4adcc7e5",
   "metadata": {},
   "outputs": [],
   "source": [
    "import numpy as np\n",
    "\n",
    "# Columns: [Age, Math Marks, Science Marks]\n",
    "data = np.array([\n",
    "    [18, 85, 78],   # Student 1\n",
    "    [19, 92, 88],   # Student 2\n",
    "    [17, 76, 95],   # Student 3\n",
    "    [18, 65, 70],   # Student 4\n",
    "    [20, 90, 85]    # Student 5\n",
    "])"
   ]
  },
  {
   "cell_type": "code",
   "execution_count": 119,
   "id": "6c2d0429-656f-41fe-a4ce-89fff347aff2",
   "metadata": {},
   "outputs": [],
   "source": [
    "# Get the shape of the matrix."
   ]
  },
  {
   "cell_type": "code",
   "execution_count": 120,
   "id": "2c2a5bda-502f-4b51-99ce-864bb46eac3c",
   "metadata": {},
   "outputs": [
    {
     "data": {
      "text/plain": [
       "(5, 3)"
      ]
     },
     "execution_count": 120,
     "metadata": {},
     "output_type": "execute_result"
    }
   ],
   "source": [
    "data.shape"
   ]
  },
  {
   "cell_type": "code",
   "execution_count": 121,
   "id": "adfc6c3e-adc5-408b-b1bd-cceb8ee5889d",
   "metadata": {},
   "outputs": [],
   "source": [
    "# Find the average age of students."
   ]
  },
  {
   "cell_type": "code",
   "execution_count": 122,
   "id": "af6e44ce-12da-4d67-9817-d6da4c02d35f",
   "metadata": {},
   "outputs": [
    {
     "data": {
      "text/plain": [
       "18.4"
      ]
     },
     "execution_count": 122,
     "metadata": {},
     "output_type": "execute_result"
    }
   ],
   "source": [
    "data[:,0].sum()/5"
   ]
  },
  {
   "cell_type": "code",
   "execution_count": 123,
   "id": "f324640c-1f03-4950-8da3-392b35b483c4",
   "metadata": {},
   "outputs": [
    {
     "data": {
      "text/plain": [
       "18.4"
      ]
     },
     "execution_count": 123,
     "metadata": {},
     "output_type": "execute_result"
    }
   ],
   "source": [
    "np.mean(data[:,0])"
   ]
  },
  {
   "cell_type": "code",
   "execution_count": 124,
   "id": "10de36d0-1934-442a-b6a8-ea3c02a3fff0",
   "metadata": {},
   "outputs": [],
   "source": [
    "# Extract Math marks of all students."
   ]
  },
  {
   "cell_type": "code",
   "execution_count": 125,
   "id": "d26482d0-1ded-48cf-b9b9-13f38253c87c",
   "metadata": {},
   "outputs": [
    {
     "data": {
      "text/plain": [
       "array([85, 92, 76, 65, 90])"
      ]
     },
     "execution_count": 125,
     "metadata": {},
     "output_type": "execute_result"
    }
   ],
   "source": [
    "data[:,1]"
   ]
  },
  {
   "cell_type": "code",
   "execution_count": 126,
   "id": "110bf343-4d68-4763-9e54-cff333bb2a6c",
   "metadata": {},
   "outputs": [],
   "source": [
    "# Find the highest Science mark."
   ]
  },
  {
   "cell_type": "code",
   "execution_count": 127,
   "id": "d44aafe2-3dfd-4cf2-8f18-dc88dddf2666",
   "metadata": {},
   "outputs": [
    {
     "data": {
      "text/plain": [
       "95"
      ]
     },
     "execution_count": 127,
     "metadata": {},
     "output_type": "execute_result"
    }
   ],
   "source": [
    "data[:,2].max()"
   ]
  },
  {
   "cell_type": "code",
   "execution_count": 128,
   "id": "2e50731a-1c5a-4ddb-9561-ce7608c75a4c",
   "metadata": {},
   "outputs": [
    {
     "data": {
      "text/plain": [
       "95"
      ]
     },
     "execution_count": 128,
     "metadata": {},
     "output_type": "execute_result"
    }
   ],
   "source": [
    "np.max(data[:,2])"
   ]
  },
  {
   "cell_type": "code",
   "execution_count": 129,
   "id": "16ec7827-ca75-460c-82e7-847156f9beb5",
   "metadata": {},
   "outputs": [],
   "source": [
    "# Get details of the student who scored more than 90 in Math."
   ]
  },
  {
   "cell_type": "code",
   "execution_count": 130,
   "id": "9de7aa55-a24a-4a6b-a495-0fe72112185c",
   "metadata": {},
   "outputs": [
    {
     "data": {
      "text/plain": [
       "array([False,  True, False, False, False])"
      ]
     },
     "execution_count": 130,
     "metadata": {},
     "output_type": "execute_result"
    }
   ],
   "source": [
    "data[:,1]>90"
   ]
  },
  {
   "cell_type": "code",
   "execution_count": 131,
   "id": "9edac317-938b-47d0-b011-fd3b0afe9347",
   "metadata": {},
   "outputs": [
    {
     "data": {
      "text/plain": [
       "array([[19, 92, 88]])"
      ]
     },
     "execution_count": 131,
     "metadata": {},
     "output_type": "execute_result"
    }
   ],
   "source": [
    "data[data[:,1]>90]"
   ]
  },
  {
   "cell_type": "code",
   "execution_count": 132,
   "id": "c13b68a5-5a2c-4733-bb1e-040cf0700f47",
   "metadata": {},
   "outputs": [
    {
     "data": {
      "text/plain": [
       "array([18, 85, 78])"
      ]
     },
     "execution_count": 132,
     "metadata": {},
     "output_type": "execute_result"
    }
   ],
   "source": [
    "data[0] # array me arrayname[3], 4th row print hoga"
   ]
  },
  {
   "cell_type": "code",
   "execution_count": 133,
   "id": "7044d0c4-b892-4f92-9645-1de0501bd8cb",
   "metadata": {},
   "outputs": [],
   "source": [
    "# Increase Math marks of all students by 5."
   ]
  },
  {
   "cell_type": "code",
   "execution_count": 134,
   "id": "6b7fbbef-a8eb-4462-900c-0abc4f11ed45",
   "metadata": {},
   "outputs": [
    {
     "data": {
      "text/plain": [
       "array([90, 97, 81, 70, 95])"
      ]
     },
     "execution_count": 134,
     "metadata": {},
     "output_type": "execute_result"
    }
   ],
   "source": [
    "data[:,1]+5"
   ]
  },
  {
   "cell_type": "code",
   "execution_count": 146,
   "id": "746479b3-b346-465e-b6d0-4c28b7e0e7c4",
   "metadata": {},
   "outputs": [],
   "source": [
    "import numpy as np\n",
    "data = np.array([\n",
    "    [18, 85, 78],   # Student 1\n",
    "    [19, 92, 88],   # Student 2\n",
    "    [17, 76, 95],   # Student 3\n",
    "    [18, 65, 70],   # Student 4\n",
    "    [20, 90, 85]    # Student 5\n",
    "])"
   ]
  },
  {
   "cell_type": "code",
   "execution_count": 147,
   "id": "69c046d7-8d4d-4270-8872-3d27b2956d3f",
   "metadata": {},
   "outputs": [
    {
     "data": {
      "text/plain": [
       "array([[18, 90, 78],\n",
       "       [19, 97, 88],\n",
       "       [17, 81, 95],\n",
       "       [18, 70, 70],\n",
       "       [20, 95, 85]])"
      ]
     },
     "execution_count": 147,
     "metadata": {},
     "output_type": "execute_result"
    }
   ],
   "source": [
    "data[:,1] += 5\n",
    "data"
   ]
  },
  {
   "cell_type": "code",
   "execution_count": 148,
   "id": "91bd843d-7b4b-43ae-8d78-9db66039c202",
   "metadata": {},
   "outputs": [
    {
     "data": {
      "text/plain": [
       "array([ 95, 102,  86,  75, 100])"
      ]
     },
     "execution_count": 148,
     "metadata": {},
     "output_type": "execute_result"
    }
   ],
   "source": [
    "data[:,1]+5"
   ]
  },
  {
   "cell_type": "code",
   "execution_count": 149,
   "id": "4d7b8aff-73e3-4258-85a3-f393a929863f",
   "metadata": {},
   "outputs": [],
   "source": [
    "# Find how many students are younger than 19."
   ]
  },
  {
   "cell_type": "code",
   "execution_count": 158,
   "id": "5803a256-ef23-41f2-b2c3-804a9a21a3b8",
   "metadata": {},
   "outputs": [
    {
     "data": {
      "text/plain": [
       "array([ True, False,  True,  True, False])"
      ]
     },
     "execution_count": 158,
     "metadata": {},
     "output_type": "execute_result"
    }
   ],
   "source": [
    "data[:,0]<19"
   ]
  },
  {
   "cell_type": "code",
   "execution_count": 159,
   "id": "ff84900b-5af2-49e6-8920-7933e8b03dfc",
   "metadata": {},
   "outputs": [
    {
     "data": {
      "text/plain": [
       "array([[18, 90, 78],\n",
       "       [17, 81, 95],\n",
       "       [18, 70, 70]])"
      ]
     },
     "execution_count": 159,
     "metadata": {},
     "output_type": "execute_result"
    }
   ],
   "source": [
    "data[data[:,0]<19]"
   ]
  },
  {
   "cell_type": "code",
   "execution_count": 161,
   "id": "455ab4bd-ad68-409d-8602-2ff57f546dc4",
   "metadata": {},
   "outputs": [
    {
     "data": {
      "text/plain": [
       "5"
      ]
     },
     "execution_count": 161,
     "metadata": {},
     "output_type": "execute_result"
    }
   ],
   "source": [
    "len(data[:,0]<19) #this is wrong to count, coz we want number of student in data who is less than 19, not element in data[:,0]<19"
   ]
  },
  {
   "cell_type": "code",
   "execution_count": 162,
   "id": "7a1726d6-7151-4e3a-ac8d-3b8391acdeee",
   "metadata": {},
   "outputs": [
    {
     "data": {
      "text/plain": [
       "3"
      ]
     },
     "execution_count": 162,
     "metadata": {},
     "output_type": "execute_result"
    }
   ],
   "source": [
    "len(data[data[:,0]<19])"
   ]
  },
  {
   "cell_type": "code",
   "execution_count": 164,
   "id": "d6c3138f-be2c-4eaf-8183-42f467dcdc69",
   "metadata": {},
   "outputs": [],
   "source": [
    "# Calculate the average marks in each subject (column-wise mean)."
   ]
  },
  {
   "cell_type": "code",
   "execution_count": 170,
   "id": "e3da904f-ecdd-4f7b-9f03-64ac2a970575",
   "metadata": {},
   "outputs": [
    {
     "data": {
      "text/plain": [
       "86.6"
      ]
     },
     "execution_count": 170,
     "metadata": {},
     "output_type": "execute_result"
    }
   ],
   "source": [
    "data[:,1].sum()/5"
   ]
  },
  {
   "cell_type": "code",
   "execution_count": 172,
   "id": "e115162c-3b37-4583-a025-0c633d45ff1e",
   "metadata": {},
   "outputs": [
    {
     "data": {
      "text/plain": [
       "83.2"
      ]
     },
     "execution_count": 172,
     "metadata": {},
     "output_type": "execute_result"
    }
   ],
   "source": [
    "data[:,2].sum()/5"
   ]
  },
  {
   "cell_type": "code",
   "execution_count": 188,
   "id": "82e2c28a-8987-4b9e-9bd1-42ceb06c0497",
   "metadata": {},
   "outputs": [
    {
     "data": {
      "text/plain": [
       "array([86.6, 83.2])"
      ]
     },
     "execution_count": 188,
     "metadata": {},
     "output_type": "execute_result"
    }
   ],
   "source": [
    "np.mean(data[:,1:], axis=0) #[:,1:], it means after column 1, you will proceed further column, if u didnot mention axis, it gives output, mean of 2 column "
   ]
  },
  {
   "cell_type": "code",
   "execution_count": 189,
   "id": "67e65e4a-b549-4d68-876c-4c3862ce888d",
   "metadata": {},
   "outputs": [],
   "source": [
    "#Get data of students who scored at least 80 in both subjects."
   ]
  },
  {
   "cell_type": "code",
   "execution_count": 198,
   "id": "d3fe5dc3-c39e-4d2d-802a-b221c9667b8b",
   "metadata": {},
   "outputs": [],
   "source": [
    "data = np.array([\n",
    "    [18, 85, 78],   # Student 1\n",
    "    [19, 92, 88],   # Student 2\n",
    "    [17, 76, 95],   # Student 3\n",
    "    [18, 65, 70],   # Student 4\n",
    "    [20, 90, 85]    # Student 5\n",
    "])"
   ]
  },
  {
   "cell_type": "code",
   "execution_count": 199,
   "id": "513b2490-8b54-46d5-b830-3756f6a2c250",
   "metadata": {},
   "outputs": [
    {
     "data": {
      "text/plain": [
       "array([[ True, False],\n",
       "       [ True,  True],\n",
       "       [False,  True],\n",
       "       [False, False],\n",
       "       [ True,  True]])"
      ]
     },
     "execution_count": 199,
     "metadata": {},
     "output_type": "execute_result"
    }
   ],
   "source": [
    "data[:,1:]>=80"
   ]
  },
  {
   "cell_type": "code",
   "execution_count": 203,
   "id": "ac1377bd-611d-4f20-bc6d-c3cfd3f7a12b",
   "metadata": {},
   "outputs": [
    {
     "data": {
      "text/plain": [
       "array([[19, 92, 88],\n",
       "       [20, 90, 85]])"
      ]
     },
     "execution_count": 203,
     "metadata": {},
     "output_type": "execute_result"
    }
   ],
   "source": [
    "data[(data[:,1]>=80) & (data[:,2]>=80)]"
   ]
  },
  {
   "cell_type": "code",
   "execution_count": 195,
   "id": "1e8479a1-d822-41dd-8323-ea20f3e0b34b",
   "metadata": {},
   "outputs": [],
   "source": [
    "#Replace all Science marks < 75 with 0."
   ]
  },
  {
   "cell_type": "code",
   "execution_count": 213,
   "id": "8352fb6b-4a77-4705-b80a-8e99f836dd93",
   "metadata": {},
   "outputs": [],
   "source": [
    "data = np.array([\n",
    "    [18, 85, 78],   # Student 1\n",
    "    [19, 92, 88],   # Student 2\n",
    "    [17, 76, 95],   # Student 3\n",
    "    [18, 65, 70],   # Student 4\n",
    "    [20, 90, 85]    # Student 5\n",
    "])"
   ]
  },
  {
   "cell_type": "code",
   "execution_count": 214,
   "id": "b6ed1bb2-7d33-47af-9c04-faa4fb45abf5",
   "metadata": {},
   "outputs": [
    {
     "data": {
      "text/plain": [
       "array([[18, 85, 78],\n",
       "       [19, 92, 88],\n",
       "       [17, 76, 95],\n",
       "       [ 0,  0,  0],\n",
       "       [20, 90, 85]])"
      ]
     },
     "execution_count": 214,
     "metadata": {},
     "output_type": "execute_result"
    }
   ],
   "source": [
    "data[data[:,2]<75]=0\n",
    "data"
   ]
  },
  {
   "cell_type": "code",
   "execution_count": 217,
   "id": "0463f92e-e745-4cf5-b131-44545dcc0589",
   "metadata": {},
   "outputs": [],
   "source": [
    "data = np.array([\n",
    "    [18, 85, 78],   # Student 1\n",
    "    [19, 92, 88],   # Student 2\n",
    "    [17, 76, 95],   # Student 3\n",
    "    [18, 65, 70],   # Student 4\n",
    "    [20, 90, 85]    # Student 5\n",
    "])"
   ]
  },
  {
   "cell_type": "code",
   "execution_count": 218,
   "id": "6e4c03d9-06d4-47a6-a6eb-0e5e4d280d74",
   "metadata": {},
   "outputs": [
    {
     "data": {
      "text/plain": [
       "array([[18, 85, 78],\n",
       "       [19, 92, 88],\n",
       "       [17, 76, 95],\n",
       "       [18, 65,  0],\n",
       "       [20, 90, 85]])"
      ]
     },
     "execution_count": 218,
     "metadata": {},
     "output_type": "execute_result"
    }
   ],
   "source": [
    "data[:,2][data[:,2]<75]=0\n",
    "data"
   ]
  },
  {
   "cell_type": "code",
   "execution_count": null,
   "id": "b1d6b9ef-8355-41df-ba6d-8b4eb33ef513",
   "metadata": {},
   "outputs": [],
   "source": []
  }
 ],
 "metadata": {
  "kernelspec": {
   "display_name": "Python 3 (ipykernel)",
   "language": "python",
   "name": "python3"
  },
  "language_info": {
   "codemirror_mode": {
    "name": "ipython",
    "version": 3
   },
   "file_extension": ".py",
   "mimetype": "text/x-python",
   "name": "python",
   "nbconvert_exporter": "python",
   "pygments_lexer": "ipython3",
   "version": "3.12.7"
  }
 },
 "nbformat": 4,
 "nbformat_minor": 5
}
