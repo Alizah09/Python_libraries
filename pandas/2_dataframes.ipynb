{
 "cells": [
  {
   "cell_type": "code",
   "execution_count": 122,
   "id": "51bfc05b-3014-4ca1-a707-d88f7e3d7edf",
   "metadata": {},
   "outputs": [],
   "source": [
    "import numpy as np\n",
    "import pandas as pd"
   ]
  },
  {
   "cell_type": "markdown",
   "id": "a21a9a33-e694-47af-9822-2582e98613a7",
   "metadata": {},
   "source": [
    "## creating a dataframe"
   ]
  },
  {
   "cell_type": "code",
   "execution_count": 123,
   "id": "7c671309-2379-4826-ab47-0cd80438995a",
   "metadata": {},
   "outputs": [
    {
     "name": "stdout",
     "output_type": "stream",
     "text": [
      "<class 'dict'>\n"
     ]
    }
   ],
   "source": [
    "data={\n",
    "    'names' : [\"Alice\", \"Bob\", \"Carol\", \"David\", \"Emma\"],\n",
    "    'ages' : [28, 34, 25, 40, 30],\n",
    "    'salaries' : [75000, 68000, 72000, 90000, 81000],\n",
    "    'cities' : [\"New York\", \"Los Angeles\", \"Chicago\", \"Houston\", \"San Francisco\"]\n",
    "}\n",
    "data\n",
    "print(type(data))"
   ]
  },
  {
   "cell_type": "code",
   "execution_count": 124,
   "id": "6f06f663-67be-4b64-88ad-e3c48b33e8ff",
   "metadata": {},
   "outputs": [],
   "source": [
    "labels=['a','b','c','d','e']"
   ]
  },
  {
   "cell_type": "code",
   "execution_count": 125,
   "id": "26df6787-f11e-4d12-a28c-f673c1aca23d",
   "metadata": {},
   "outputs": [],
   "source": [
    "df=pd.DataFrame(data, index=labels) #now every colummn is known as series, and the output of data is dataframe, if u don't provide labels, u get serial by default"
   ]
  },
  {
   "cell_type": "code",
   "execution_count": 126,
   "id": "eeb1373f-6544-45be-b567-8dd901e735ea",
   "metadata": {},
   "outputs": [
    {
     "data": {
      "text/html": [
       "<div>\n",
       "<style scoped>\n",
       "    .dataframe tbody tr th:only-of-type {\n",
       "        vertical-align: middle;\n",
       "    }\n",
       "\n",
       "    .dataframe tbody tr th {\n",
       "        vertical-align: top;\n",
       "    }\n",
       "\n",
       "    .dataframe thead th {\n",
       "        text-align: right;\n",
       "    }\n",
       "</style>\n",
       "<table border=\"1\" class=\"dataframe\">\n",
       "  <thead>\n",
       "    <tr style=\"text-align: right;\">\n",
       "      <th></th>\n",
       "      <th>names</th>\n",
       "      <th>ages</th>\n",
       "      <th>salaries</th>\n",
       "      <th>cities</th>\n",
       "    </tr>\n",
       "  </thead>\n",
       "  <tbody>\n",
       "    <tr>\n",
       "      <th>a</th>\n",
       "      <td>Alice</td>\n",
       "      <td>28</td>\n",
       "      <td>75000</td>\n",
       "      <td>New York</td>\n",
       "    </tr>\n",
       "    <tr>\n",
       "      <th>b</th>\n",
       "      <td>Bob</td>\n",
       "      <td>34</td>\n",
       "      <td>68000</td>\n",
       "      <td>Los Angeles</td>\n",
       "    </tr>\n",
       "    <tr>\n",
       "      <th>c</th>\n",
       "      <td>Carol</td>\n",
       "      <td>25</td>\n",
       "      <td>72000</td>\n",
       "      <td>Chicago</td>\n",
       "    </tr>\n",
       "    <tr>\n",
       "      <th>d</th>\n",
       "      <td>David</td>\n",
       "      <td>40</td>\n",
       "      <td>90000</td>\n",
       "      <td>Houston</td>\n",
       "    </tr>\n",
       "    <tr>\n",
       "      <th>e</th>\n",
       "      <td>Emma</td>\n",
       "      <td>30</td>\n",
       "      <td>81000</td>\n",
       "      <td>San Francisco</td>\n",
       "    </tr>\n",
       "  </tbody>\n",
       "</table>\n",
       "</div>"
      ],
      "text/plain": [
       "   names  ages  salaries         cities\n",
       "a  Alice    28     75000       New York\n",
       "b    Bob    34     68000    Los Angeles\n",
       "c  Carol    25     72000        Chicago\n",
       "d  David    40     90000        Houston\n",
       "e   Emma    30     81000  San Francisco"
      ]
     },
     "execution_count": 126,
     "metadata": {},
     "output_type": "execute_result"
    }
   ],
   "source": [
    "df"
   ]
  },
  {
   "cell_type": "code",
   "execution_count": 127,
   "id": "b5cfc192-5af2-4524-859b-fbc2317dd244",
   "metadata": {},
   "outputs": [],
   "source": [
    "data_list=[\n",
    "    [ \"Alice\", 28, 75000, \"New York\"],\n",
    "    [\"Bob\", 34, 68000, \"Los Angeles\"],\n",
    "    [\"Carol\", 25, 72000, \"Chicago\"],\n",
    "    [\"David\", 40, 90000, \"Houston\"],\n",
    "    [\"Emma\", 30, 81000, \"San Francisco\"]\n",
    "]"
   ]
  },
  {
   "cell_type": "code",
   "execution_count": 128,
   "id": "8fc46de1-0657-4b93-a380-e0250073dad3",
   "metadata": {},
   "outputs": [],
   "source": [
    "labels=['a','b','c','d','e']"
   ]
  },
  {
   "cell_type": "code",
   "execution_count": 129,
   "id": "7cc6e3d8-bc97-4f8e-8540-f22545906f7d",
   "metadata": {},
   "outputs": [],
   "source": [
    "column=['name','age','salaries','city']"
   ]
  },
  {
   "cell_type": "code",
   "execution_count": 130,
   "id": "9e07fcb1-ba39-4561-9e6f-6f96aa28aa8b",
   "metadata": {},
   "outputs": [],
   "source": [
    "df1=pd.DataFrame(data_list,columns=column,index=labels)"
   ]
  },
  {
   "cell_type": "code",
   "execution_count": 131,
   "id": "33a87bac-f4e5-4994-9900-5c116957e5b8",
   "metadata": {},
   "outputs": [
    {
     "data": {
      "text/html": [
       "<div>\n",
       "<style scoped>\n",
       "    .dataframe tbody tr th:only-of-type {\n",
       "        vertical-align: middle;\n",
       "    }\n",
       "\n",
       "    .dataframe tbody tr th {\n",
       "        vertical-align: top;\n",
       "    }\n",
       "\n",
       "    .dataframe thead th {\n",
       "        text-align: right;\n",
       "    }\n",
       "</style>\n",
       "<table border=\"1\" class=\"dataframe\">\n",
       "  <thead>\n",
       "    <tr style=\"text-align: right;\">\n",
       "      <th></th>\n",
       "      <th>name</th>\n",
       "      <th>age</th>\n",
       "      <th>salaries</th>\n",
       "      <th>city</th>\n",
       "    </tr>\n",
       "  </thead>\n",
       "  <tbody>\n",
       "    <tr>\n",
       "      <th>a</th>\n",
       "      <td>Alice</td>\n",
       "      <td>28</td>\n",
       "      <td>75000</td>\n",
       "      <td>New York</td>\n",
       "    </tr>\n",
       "    <tr>\n",
       "      <th>b</th>\n",
       "      <td>Bob</td>\n",
       "      <td>34</td>\n",
       "      <td>68000</td>\n",
       "      <td>Los Angeles</td>\n",
       "    </tr>\n",
       "    <tr>\n",
       "      <th>c</th>\n",
       "      <td>Carol</td>\n",
       "      <td>25</td>\n",
       "      <td>72000</td>\n",
       "      <td>Chicago</td>\n",
       "    </tr>\n",
       "    <tr>\n",
       "      <th>d</th>\n",
       "      <td>David</td>\n",
       "      <td>40</td>\n",
       "      <td>90000</td>\n",
       "      <td>Houston</td>\n",
       "    </tr>\n",
       "    <tr>\n",
       "      <th>e</th>\n",
       "      <td>Emma</td>\n",
       "      <td>30</td>\n",
       "      <td>81000</td>\n",
       "      <td>San Francisco</td>\n",
       "    </tr>\n",
       "  </tbody>\n",
       "</table>\n",
       "</div>"
      ],
      "text/plain": [
       "    name  age  salaries           city\n",
       "a  Alice   28     75000       New York\n",
       "b    Bob   34     68000    Los Angeles\n",
       "c  Carol   25     72000        Chicago\n",
       "d  David   40     90000        Houston\n",
       "e   Emma   30     81000  San Francisco"
      ]
     },
     "execution_count": 131,
     "metadata": {},
     "output_type": "execute_result"
    }
   ],
   "source": [
    "df1"
   ]
  },
  {
   "cell_type": "markdown",
   "id": "f49c863c-1645-438b-adb7-5c774dde458f",
   "metadata": {},
   "source": [
    "## selection and indexing of columns"
   ]
  },
  {
   "cell_type": "code",
   "execution_count": 132,
   "id": "386ce70c-2814-4274-82b5-05c8a312969d",
   "metadata": {},
   "outputs": [
    {
     "data": {
      "text/html": [
       "<div>\n",
       "<style scoped>\n",
       "    .dataframe tbody tr th:only-of-type {\n",
       "        vertical-align: middle;\n",
       "    }\n",
       "\n",
       "    .dataframe tbody tr th {\n",
       "        vertical-align: top;\n",
       "    }\n",
       "\n",
       "    .dataframe thead th {\n",
       "        text-align: right;\n",
       "    }\n",
       "</style>\n",
       "<table border=\"1\" class=\"dataframe\">\n",
       "  <thead>\n",
       "    <tr style=\"text-align: right;\">\n",
       "      <th></th>\n",
       "      <th>names</th>\n",
       "      <th>ages</th>\n",
       "      <th>salaries</th>\n",
       "      <th>cities</th>\n",
       "    </tr>\n",
       "  </thead>\n",
       "  <tbody>\n",
       "    <tr>\n",
       "      <th>a</th>\n",
       "      <td>Alice</td>\n",
       "      <td>28</td>\n",
       "      <td>75000</td>\n",
       "      <td>New York</td>\n",
       "    </tr>\n",
       "    <tr>\n",
       "      <th>b</th>\n",
       "      <td>Bob</td>\n",
       "      <td>34</td>\n",
       "      <td>68000</td>\n",
       "      <td>Los Angeles</td>\n",
       "    </tr>\n",
       "    <tr>\n",
       "      <th>c</th>\n",
       "      <td>Carol</td>\n",
       "      <td>25</td>\n",
       "      <td>72000</td>\n",
       "      <td>Chicago</td>\n",
       "    </tr>\n",
       "    <tr>\n",
       "      <th>d</th>\n",
       "      <td>David</td>\n",
       "      <td>40</td>\n",
       "      <td>90000</td>\n",
       "      <td>Houston</td>\n",
       "    </tr>\n",
       "    <tr>\n",
       "      <th>e</th>\n",
       "      <td>Emma</td>\n",
       "      <td>30</td>\n",
       "      <td>81000</td>\n",
       "      <td>San Francisco</td>\n",
       "    </tr>\n",
       "  </tbody>\n",
       "</table>\n",
       "</div>"
      ],
      "text/plain": [
       "   names  ages  salaries         cities\n",
       "a  Alice    28     75000       New York\n",
       "b    Bob    34     68000    Los Angeles\n",
       "c  Carol    25     72000        Chicago\n",
       "d  David    40     90000        Houston\n",
       "e   Emma    30     81000  San Francisco"
      ]
     },
     "execution_count": 132,
     "metadata": {},
     "output_type": "execute_result"
    }
   ],
   "source": [
    "df # as u saved the dataframe "
   ]
  },
  {
   "cell_type": "code",
   "execution_count": 133,
   "id": "1e61cd7c-6780-4d20-adef-6b259ab4a9ee",
   "metadata": {},
   "outputs": [
    {
     "data": {
      "text/plain": [
       "a    Alice\n",
       "b      Bob\n",
       "c    Carol\n",
       "d    David\n",
       "e     Emma\n",
       "Name: names, dtype: object"
      ]
     },
     "execution_count": 133,
     "metadata": {},
     "output_type": "execute_result"
    }
   ],
   "source": [
    "df['names'] # so we can't access serise by giving df[0], we have to give column name, [] coz of 1d"
   ]
  },
  {
   "cell_type": "code",
   "execution_count": 134,
   "id": "b7be1511-a6fd-43fe-95e5-83f6417ff99a",
   "metadata": {},
   "outputs": [
    {
     "data": {
      "text/html": [
       "<div>\n",
       "<style scoped>\n",
       "    .dataframe tbody tr th:only-of-type {\n",
       "        vertical-align: middle;\n",
       "    }\n",
       "\n",
       "    .dataframe tbody tr th {\n",
       "        vertical-align: top;\n",
       "    }\n",
       "\n",
       "    .dataframe thead th {\n",
       "        text-align: right;\n",
       "    }\n",
       "</style>\n",
       "<table border=\"1\" class=\"dataframe\">\n",
       "  <thead>\n",
       "    <tr style=\"text-align: right;\">\n",
       "      <th></th>\n",
       "      <th>names</th>\n",
       "      <th>cities</th>\n",
       "      <th>ages</th>\n",
       "    </tr>\n",
       "  </thead>\n",
       "  <tbody>\n",
       "    <tr>\n",
       "      <th>a</th>\n",
       "      <td>Alice</td>\n",
       "      <td>New York</td>\n",
       "      <td>28</td>\n",
       "    </tr>\n",
       "    <tr>\n",
       "      <th>b</th>\n",
       "      <td>Bob</td>\n",
       "      <td>Los Angeles</td>\n",
       "      <td>34</td>\n",
       "    </tr>\n",
       "    <tr>\n",
       "      <th>c</th>\n",
       "      <td>Carol</td>\n",
       "      <td>Chicago</td>\n",
       "      <td>25</td>\n",
       "    </tr>\n",
       "    <tr>\n",
       "      <th>d</th>\n",
       "      <td>David</td>\n",
       "      <td>Houston</td>\n",
       "      <td>40</td>\n",
       "    </tr>\n",
       "    <tr>\n",
       "      <th>e</th>\n",
       "      <td>Emma</td>\n",
       "      <td>San Francisco</td>\n",
       "      <td>30</td>\n",
       "    </tr>\n",
       "  </tbody>\n",
       "</table>\n",
       "</div>"
      ],
      "text/plain": [
       "   names         cities  ages\n",
       "a  Alice       New York    28\n",
       "b    Bob    Los Angeles    34\n",
       "c  Carol        Chicago    25\n",
       "d  David        Houston    40\n",
       "e   Emma  San Francisco    30"
      ]
     },
     "execution_count": 134,
     "metadata": {},
     "output_type": "execute_result"
    }
   ],
   "source": [
    "df[['names','cities','ages']] # coz of 2d, we need to give 2[]"
   ]
  },
  {
   "cell_type": "markdown",
   "id": "33c2e31d-b35b-434f-a086-f21df5ee3a47",
   "metadata": {},
   "source": [
    "## creating a new column in dataframe"
   ]
  },
  {
   "cell_type": "code",
   "execution_count": 166,
   "id": "377b2deb-b4d0-4bc4-9494-9fb160ba096d",
   "metadata": {},
   "outputs": [],
   "source": [
    "df['designation']=['doctor','engg','prof','manager','engg'] # to introduce new column in dataframe, u have to take same number of data as row contains"
   ]
  },
  {
   "cell_type": "code",
   "execution_count": 175,
   "id": "0d06cc50-c0ed-4a01-a72c-7b47590c0734",
   "metadata": {},
   "outputs": [
    {
     "data": {
      "text/html": [
       "<div>\n",
       "<style scoped>\n",
       "    .dataframe tbody tr th:only-of-type {\n",
       "        vertical-align: middle;\n",
       "    }\n",
       "\n",
       "    .dataframe tbody tr th {\n",
       "        vertical-align: top;\n",
       "    }\n",
       "\n",
       "    .dataframe thead th {\n",
       "        text-align: right;\n",
       "    }\n",
       "</style>\n",
       "<table border=\"1\" class=\"dataframe\">\n",
       "  <thead>\n",
       "    <tr style=\"text-align: right;\">\n",
       "      <th></th>\n",
       "      <th>names</th>\n",
       "      <th>ages</th>\n",
       "      <th>salaries</th>\n",
       "      <th>cities</th>\n",
       "      <th>designation</th>\n",
       "    </tr>\n",
       "  </thead>\n",
       "  <tbody>\n",
       "    <tr>\n",
       "      <th>a</th>\n",
       "      <td>Alice</td>\n",
       "      <td>28</td>\n",
       "      <td>75000</td>\n",
       "      <td>New York</td>\n",
       "      <td>doctor</td>\n",
       "    </tr>\n",
       "    <tr>\n",
       "      <th>b</th>\n",
       "      <td>Bob</td>\n",
       "      <td>34</td>\n",
       "      <td>68000</td>\n",
       "      <td>Los Angeles</td>\n",
       "      <td>engg</td>\n",
       "    </tr>\n",
       "    <tr>\n",
       "      <th>c</th>\n",
       "      <td>Carol</td>\n",
       "      <td>25</td>\n",
       "      <td>72000</td>\n",
       "      <td>Chicago</td>\n",
       "      <td>prof</td>\n",
       "    </tr>\n",
       "    <tr>\n",
       "      <th>d</th>\n",
       "      <td>David</td>\n",
       "      <td>40</td>\n",
       "      <td>90000</td>\n",
       "      <td>Houston</td>\n",
       "      <td>manager</td>\n",
       "    </tr>\n",
       "    <tr>\n",
       "      <th>e</th>\n",
       "      <td>Emma</td>\n",
       "      <td>30</td>\n",
       "      <td>81000</td>\n",
       "      <td>San Francisco</td>\n",
       "      <td>engg</td>\n",
       "    </tr>\n",
       "  </tbody>\n",
       "</table>\n",
       "</div>"
      ],
      "text/plain": [
       "   names  ages  salaries         cities designation\n",
       "a  Alice    28     75000       New York      doctor\n",
       "b    Bob    34     68000    Los Angeles        engg\n",
       "c  Carol    25     72000        Chicago        prof\n",
       "d  David    40     90000        Houston     manager\n",
       "e   Emma    30     81000  San Francisco        engg"
      ]
     },
     "execution_count": 175,
     "metadata": {},
     "output_type": "execute_result"
    }
   ],
   "source": [
    "ur=df\n",
    "ur"
   ]
  },
  {
   "cell_type": "markdown",
   "id": "412caa46-d042-4101-870d-4c801661286f",
   "metadata": {},
   "source": [
    "## remove column"
   ]
  },
  {
   "cell_type": "code",
   "execution_count": 176,
   "id": "b0202883-1ca0-4996-9fbb-6167cf67426b",
   "metadata": {},
   "outputs": [],
   "source": [
    "import numpy as np\n",
    "import pandas as pd"
   ]
  },
  {
   "cell_type": "code",
   "execution_count": 212,
   "id": "77d95623-71cb-4ae5-9247-5fdb1ddda168",
   "metadata": {},
   "outputs": [
    {
     "data": {
      "text/html": [
       "<div>\n",
       "<style scoped>\n",
       "    .dataframe tbody tr th:only-of-type {\n",
       "        vertical-align: middle;\n",
       "    }\n",
       "\n",
       "    .dataframe tbody tr th {\n",
       "        vertical-align: top;\n",
       "    }\n",
       "\n",
       "    .dataframe thead th {\n",
       "        text-align: right;\n",
       "    }\n",
       "</style>\n",
       "<table border=\"1\" class=\"dataframe\">\n",
       "  <thead>\n",
       "    <tr style=\"text-align: right;\">\n",
       "      <th></th>\n",
       "      <th>names</th>\n",
       "      <th>ages</th>\n",
       "      <th>salaries</th>\n",
       "      <th>cities</th>\n",
       "      <th>designation</th>\n",
       "    </tr>\n",
       "  </thead>\n",
       "  <tbody>\n",
       "    <tr>\n",
       "      <th>a</th>\n",
       "      <td>Alice</td>\n",
       "      <td>28</td>\n",
       "      <td>75000</td>\n",
       "      <td>New York</td>\n",
       "      <td>doctor</td>\n",
       "    </tr>\n",
       "    <tr>\n",
       "      <th>b</th>\n",
       "      <td>Bob</td>\n",
       "      <td>34</td>\n",
       "      <td>68000</td>\n",
       "      <td>Los Angeles</td>\n",
       "      <td>engg</td>\n",
       "    </tr>\n",
       "    <tr>\n",
       "      <th>c</th>\n",
       "      <td>Carol</td>\n",
       "      <td>25</td>\n",
       "      <td>72000</td>\n",
       "      <td>Chicago</td>\n",
       "      <td>prof</td>\n",
       "    </tr>\n",
       "    <tr>\n",
       "      <th>d</th>\n",
       "      <td>David</td>\n",
       "      <td>40</td>\n",
       "      <td>90000</td>\n",
       "      <td>Houston</td>\n",
       "      <td>manager</td>\n",
       "    </tr>\n",
       "    <tr>\n",
       "      <th>e</th>\n",
       "      <td>Emma</td>\n",
       "      <td>30</td>\n",
       "      <td>81000</td>\n",
       "      <td>San Francisco</td>\n",
       "      <td>engg</td>\n",
       "    </tr>\n",
       "  </tbody>\n",
       "</table>\n",
       "</div>"
      ],
      "text/plain": [
       "   names  ages  salaries         cities designation\n",
       "a  Alice    28     75000       New York      doctor\n",
       "b    Bob    34     68000    Los Angeles        engg\n",
       "c  Carol    25     72000        Chicago        prof\n",
       "d  David    40     90000        Houston     manager\n",
       "e   Emma    30     81000  San Francisco        engg"
      ]
     },
     "execution_count": 212,
     "metadata": {},
     "output_type": "execute_result"
    }
   ],
   "source": [
    "ur"
   ]
  },
  {
   "cell_type": "code",
   "execution_count": 213,
   "id": "77f6d6b1-71ce-45a5-bccc-c8458b5cd971",
   "metadata": {},
   "outputs": [
    {
     "data": {
      "text/html": [
       "<div>\n",
       "<style scoped>\n",
       "    .dataframe tbody tr th:only-of-type {\n",
       "        vertical-align: middle;\n",
       "    }\n",
       "\n",
       "    .dataframe tbody tr th {\n",
       "        vertical-align: top;\n",
       "    }\n",
       "\n",
       "    .dataframe thead th {\n",
       "        text-align: right;\n",
       "    }\n",
       "</style>\n",
       "<table border=\"1\" class=\"dataframe\">\n",
       "  <thead>\n",
       "    <tr style=\"text-align: right;\">\n",
       "      <th></th>\n",
       "      <th>names</th>\n",
       "      <th>ages</th>\n",
       "      <th>salaries</th>\n",
       "      <th>cities</th>\n",
       "    </tr>\n",
       "  </thead>\n",
       "  <tbody>\n",
       "    <tr>\n",
       "      <th>a</th>\n",
       "      <td>Alice</td>\n",
       "      <td>28</td>\n",
       "      <td>75000</td>\n",
       "      <td>New York</td>\n",
       "    </tr>\n",
       "    <tr>\n",
       "      <th>b</th>\n",
       "      <td>Bob</td>\n",
       "      <td>34</td>\n",
       "      <td>68000</td>\n",
       "      <td>Los Angeles</td>\n",
       "    </tr>\n",
       "    <tr>\n",
       "      <th>c</th>\n",
       "      <td>Carol</td>\n",
       "      <td>25</td>\n",
       "      <td>72000</td>\n",
       "      <td>Chicago</td>\n",
       "    </tr>\n",
       "    <tr>\n",
       "      <th>d</th>\n",
       "      <td>David</td>\n",
       "      <td>40</td>\n",
       "      <td>90000</td>\n",
       "      <td>Houston</td>\n",
       "    </tr>\n",
       "    <tr>\n",
       "      <th>e</th>\n",
       "      <td>Emma</td>\n",
       "      <td>30</td>\n",
       "      <td>81000</td>\n",
       "      <td>San Francisco</td>\n",
       "    </tr>\n",
       "  </tbody>\n",
       "</table>\n",
       "</div>"
      ],
      "text/plain": [
       "   names  ages  salaries         cities\n",
       "a  Alice    28     75000       New York\n",
       "b    Bob    34     68000    Los Angeles\n",
       "c  Carol    25     72000        Chicago\n",
       "d  David    40     90000        Houston\n",
       "e   Emma    30     81000  San Francisco"
      ]
     },
     "execution_count": 213,
     "metadata": {},
     "output_type": "execute_result"
    }
   ],
   "source": [
    "ur.drop('designation', axis=1) # drop one column, coz designation passed as dtring"
   ]
  },
  {
   "cell_type": "code",
   "execution_count": 214,
   "id": "fed1543d-453b-4c4d-a278-afff183b8523",
   "metadata": {},
   "outputs": [
    {
     "data": {
      "text/html": [
       "<div>\n",
       "<style scoped>\n",
       "    .dataframe tbody tr th:only-of-type {\n",
       "        vertical-align: middle;\n",
       "    }\n",
       "\n",
       "    .dataframe tbody tr th {\n",
       "        vertical-align: top;\n",
       "    }\n",
       "\n",
       "    .dataframe thead th {\n",
       "        text-align: right;\n",
       "    }\n",
       "</style>\n",
       "<table border=\"1\" class=\"dataframe\">\n",
       "  <thead>\n",
       "    <tr style=\"text-align: right;\">\n",
       "      <th></th>\n",
       "      <th>names</th>\n",
       "      <th>salaries</th>\n",
       "      <th>cities</th>\n",
       "    </tr>\n",
       "  </thead>\n",
       "  <tbody>\n",
       "    <tr>\n",
       "      <th>a</th>\n",
       "      <td>Alice</td>\n",
       "      <td>75000</td>\n",
       "      <td>New York</td>\n",
       "    </tr>\n",
       "    <tr>\n",
       "      <th>b</th>\n",
       "      <td>Bob</td>\n",
       "      <td>68000</td>\n",
       "      <td>Los Angeles</td>\n",
       "    </tr>\n",
       "    <tr>\n",
       "      <th>c</th>\n",
       "      <td>Carol</td>\n",
       "      <td>72000</td>\n",
       "      <td>Chicago</td>\n",
       "    </tr>\n",
       "    <tr>\n",
       "      <th>d</th>\n",
       "      <td>David</td>\n",
       "      <td>90000</td>\n",
       "      <td>Houston</td>\n",
       "    </tr>\n",
       "    <tr>\n",
       "      <th>e</th>\n",
       "      <td>Emma</td>\n",
       "      <td>81000</td>\n",
       "      <td>San Francisco</td>\n",
       "    </tr>\n",
       "  </tbody>\n",
       "</table>\n",
       "</div>"
      ],
      "text/plain": [
       "   names  salaries         cities\n",
       "a  Alice     75000       New York\n",
       "b    Bob     68000    Los Angeles\n",
       "c  Carol     72000        Chicago\n",
       "d  David     90000        Houston\n",
       "e   Emma     81000  San Francisco"
      ]
     },
     "execution_count": 214,
     "metadata": {},
     "output_type": "execute_result"
    }
   ],
   "source": [
    "ur.drop(['designation', 'ages'], axis=1) # can drop one or more column, coz here designation pass as list "
   ]
  },
  {
   "cell_type": "code",
   "execution_count": 200,
   "id": "1070b757-d900-4dfb-b7c1-90192e30d470",
   "metadata": {},
   "outputs": [],
   "source": [
    "df3 = pd.DataFrame({\n",
    "    \"name\": [\"Alice\", \"Bob\", \"Carol\", \"David\"],\n",
    "    \"age\": [25, 30, 22, 28]\n",
    "})"
   ]
  },
  {
   "cell_type": "code",
   "execution_count": 201,
   "id": "c45bec30-edcc-4b5e-b64f-10cd31c7c575",
   "metadata": {},
   "outputs": [
    {
     "data": {
      "text/html": [
       "<div>\n",
       "<style scoped>\n",
       "    .dataframe tbody tr th:only-of-type {\n",
       "        vertical-align: middle;\n",
       "    }\n",
       "\n",
       "    .dataframe tbody tr th {\n",
       "        vertical-align: top;\n",
       "    }\n",
       "\n",
       "    .dataframe thead th {\n",
       "        text-align: right;\n",
       "    }\n",
       "</style>\n",
       "<table border=\"1\" class=\"dataframe\">\n",
       "  <thead>\n",
       "    <tr style=\"text-align: right;\">\n",
       "      <th></th>\n",
       "      <th>name</th>\n",
       "      <th>age</th>\n",
       "    </tr>\n",
       "  </thead>\n",
       "  <tbody>\n",
       "    <tr>\n",
       "      <th>0</th>\n",
       "      <td>Alice</td>\n",
       "      <td>25</td>\n",
       "    </tr>\n",
       "    <tr>\n",
       "      <th>1</th>\n",
       "      <td>Bob</td>\n",
       "      <td>30</td>\n",
       "    </tr>\n",
       "    <tr>\n",
       "      <th>2</th>\n",
       "      <td>Carol</td>\n",
       "      <td>22</td>\n",
       "    </tr>\n",
       "    <tr>\n",
       "      <th>3</th>\n",
       "      <td>David</td>\n",
       "      <td>28</td>\n",
       "    </tr>\n",
       "  </tbody>\n",
       "</table>\n",
       "</div>"
      ],
      "text/plain": [
       "    name  age\n",
       "0  Alice   25\n",
       "1    Bob   30\n",
       "2  Carol   22\n",
       "3  David   28"
      ]
     },
     "execution_count": 201,
     "metadata": {},
     "output_type": "execute_result"
    }
   ],
   "source": [
    "df3"
   ]
  },
  {
   "cell_type": "code",
   "execution_count": 202,
   "id": "2df4921b-b29b-45d9-b0ab-4e57e0e966b6",
   "metadata": {},
   "outputs": [
    {
     "data": {
      "text/html": [
       "<div>\n",
       "<style scoped>\n",
       "    .dataframe tbody tr th:only-of-type {\n",
       "        vertical-align: middle;\n",
       "    }\n",
       "\n",
       "    .dataframe tbody tr th {\n",
       "        vertical-align: top;\n",
       "    }\n",
       "\n",
       "    .dataframe thead th {\n",
       "        text-align: right;\n",
       "    }\n",
       "</style>\n",
       "<table border=\"1\" class=\"dataframe\">\n",
       "  <thead>\n",
       "    <tr style=\"text-align: right;\">\n",
       "      <th></th>\n",
       "      <th>name</th>\n",
       "      <th>age</th>\n",
       "    </tr>\n",
       "  </thead>\n",
       "  <tbody>\n",
       "    <tr>\n",
       "      <th>0</th>\n",
       "      <td>Alice</td>\n",
       "      <td>25</td>\n",
       "    </tr>\n",
       "    <tr>\n",
       "      <th>2</th>\n",
       "      <td>Carol</td>\n",
       "      <td>22</td>\n",
       "    </tr>\n",
       "    <tr>\n",
       "      <th>3</th>\n",
       "      <td>David</td>\n",
       "      <td>28</td>\n",
       "    </tr>\n",
       "  </tbody>\n",
       "</table>\n",
       "</div>"
      ],
      "text/plain": [
       "    name  age\n",
       "0  Alice   25\n",
       "2  Carol   22\n",
       "3  David   28"
      ]
     },
     "execution_count": 202,
     "metadata": {},
     "output_type": "execute_result"
    }
   ],
   "source": [
    "df3.drop(1)  # Removes Bob, removes the row with index 1"
   ]
  },
  {
   "cell_type": "code",
   "execution_count": 203,
   "id": "185dd724-cca0-4ab1-a124-bac10fa95f3a",
   "metadata": {},
   "outputs": [
    {
     "data": {
      "text/html": [
       "<div>\n",
       "<style scoped>\n",
       "    .dataframe tbody tr th:only-of-type {\n",
       "        vertical-align: middle;\n",
       "    }\n",
       "\n",
       "    .dataframe tbody tr th {\n",
       "        vertical-align: top;\n",
       "    }\n",
       "\n",
       "    .dataframe thead th {\n",
       "        text-align: right;\n",
       "    }\n",
       "</style>\n",
       "<table border=\"1\" class=\"dataframe\">\n",
       "  <thead>\n",
       "    <tr style=\"text-align: right;\">\n",
       "      <th></th>\n",
       "      <th>name</th>\n",
       "      <th>age</th>\n",
       "    </tr>\n",
       "  </thead>\n",
       "  <tbody>\n",
       "    <tr>\n",
       "      <th>1</th>\n",
       "      <td>Bob</td>\n",
       "      <td>30</td>\n",
       "    </tr>\n",
       "  </tbody>\n",
       "</table>\n",
       "</div>"
      ],
      "text/plain": [
       "  name  age\n",
       "1  Bob   30"
      ]
     },
     "execution_count": 203,
     "metadata": {},
     "output_type": "execute_result"
    }
   ],
   "source": [
    "df3.drop([0, 2, 3])  # removes rows with index 0, 2, and 3"
   ]
  },
  {
   "cell_type": "code",
   "execution_count": 204,
   "id": "3f61a22d-e3f7-4ddc-b19c-8f0429f16014",
   "metadata": {},
   "outputs": [],
   "source": [
    "df3.drop(2, inplace=True) #If you want to modify the original DataFrame, use this, it will remove whole row from original datagrame:"
   ]
  },
  {
   "cell_type": "code",
   "execution_count": 205,
   "id": "2a2bd813-9235-41b3-a6af-1b8a726faa80",
   "metadata": {},
   "outputs": [
    {
     "data": {
      "text/html": [
       "<div>\n",
       "<style scoped>\n",
       "    .dataframe tbody tr th:only-of-type {\n",
       "        vertical-align: middle;\n",
       "    }\n",
       "\n",
       "    .dataframe tbody tr th {\n",
       "        vertical-align: top;\n",
       "    }\n",
       "\n",
       "    .dataframe thead th {\n",
       "        text-align: right;\n",
       "    }\n",
       "</style>\n",
       "<table border=\"1\" class=\"dataframe\">\n",
       "  <thead>\n",
       "    <tr style=\"text-align: right;\">\n",
       "      <th></th>\n",
       "      <th>name</th>\n",
       "      <th>age</th>\n",
       "    </tr>\n",
       "  </thead>\n",
       "  <tbody>\n",
       "    <tr>\n",
       "      <th>0</th>\n",
       "      <td>Alice</td>\n",
       "      <td>25</td>\n",
       "    </tr>\n",
       "    <tr>\n",
       "      <th>1</th>\n",
       "      <td>Bob</td>\n",
       "      <td>30</td>\n",
       "    </tr>\n",
       "    <tr>\n",
       "      <th>3</th>\n",
       "      <td>David</td>\n",
       "      <td>28</td>\n",
       "    </tr>\n",
       "  </tbody>\n",
       "</table>\n",
       "</div>"
      ],
      "text/plain": [
       "    name  age\n",
       "0  Alice   25\n",
       "1    Bob   30\n",
       "3  David   28"
      ]
     },
     "execution_count": 205,
     "metadata": {},
     "output_type": "execute_result"
    }
   ],
   "source": [
    "df3"
   ]
  },
  {
   "cell_type": "code",
   "execution_count": 208,
   "id": "ecc6a98b-2441-4529-a65e-9877a8a38952",
   "metadata": {},
   "outputs": [
    {
     "data": {
      "text/html": [
       "<div>\n",
       "<style scoped>\n",
       "    .dataframe tbody tr th:only-of-type {\n",
       "        vertical-align: middle;\n",
       "    }\n",
       "\n",
       "    .dataframe tbody tr th {\n",
       "        vertical-align: top;\n",
       "    }\n",
       "\n",
       "    .dataframe thead th {\n",
       "        text-align: right;\n",
       "    }\n",
       "</style>\n",
       "<table border=\"1\" class=\"dataframe\">\n",
       "  <thead>\n",
       "    <tr style=\"text-align: right;\">\n",
       "      <th></th>\n",
       "      <th>name</th>\n",
       "      <th>age</th>\n",
       "    </tr>\n",
       "  </thead>\n",
       "  <tbody>\n",
       "    <tr>\n",
       "      <th>0</th>\n",
       "      <td>Alice</td>\n",
       "      <td>25</td>\n",
       "    </tr>\n",
       "    <tr>\n",
       "      <th>1</th>\n",
       "      <td>Bob</td>\n",
       "      <td>30</td>\n",
       "    </tr>\n",
       "    <tr>\n",
       "      <th>3</th>\n",
       "      <td>David</td>\n",
       "      <td>28</td>\n",
       "    </tr>\n",
       "  </tbody>\n",
       "</table>\n",
       "</div>"
      ],
      "text/plain": [
       "    name  age\n",
       "0  Alice   25\n",
       "1    Bob   30\n",
       "3  David   28"
      ]
     },
     "execution_count": 208,
     "metadata": {},
     "output_type": "execute_result"
    }
   ],
   "source": [
    "df3 # see after using , inplace=true, then u call that dataframe, it has already removed 2nd index row permanently\n",
    "# so it will give dataframe which include 0,1,3 index, same logic apply to row also"
   ]
  },
  {
   "cell_type": "code",
   "execution_count": 210,
   "id": "7a987219-70bb-4ce9-9146-1c6756cd1da0",
   "metadata": {},
   "outputs": [],
   "source": [
    "# ur.drop('designation', axis=1, inplace=True)\n",
    "# this is for ur dataframe, after applying it, it will remove designation column, further u call ur dataframe after this code, then it will give \n",
    "#dataframe without designation column "
   ]
  },
  {
   "cell_type": "code",
   "execution_count": null,
   "id": "a344d6f8-9a63-4b7f-ad81-c98d6b33aa84",
   "metadata": {
    "scrolled": true
   },
   "outputs": [],
   "source": []
  },
  {
   "cell_type": "code",
   "execution_count": null,
   "id": "4c81e0b6-0f5b-4722-bcbb-c488023b2d05",
   "metadata": {},
   "outputs": [],
   "source": []
  }
 ],
 "metadata": {
  "kernelspec": {
   "display_name": "Python 3 (ipykernel)",
   "language": "python",
   "name": "python3"
  },
  "language_info": {
   "codemirror_mode": {
    "name": "ipython",
    "version": 3
   },
   "file_extension": ".py",
   "mimetype": "text/x-python",
   "name": "python",
   "nbconvert_exporter": "python",
   "pygments_lexer": "ipython3",
   "version": "3.12.7"
  }
 },
 "nbformat": 4,
 "nbformat_minor": 5
}
