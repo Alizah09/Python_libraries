{
 "cells": [
  {
   "cell_type": "code",
   "execution_count": 2,
   "id": "85e9e406-50d8-4292-a5b4-a83548399e8c",
   "metadata": {},
   "outputs": [],
   "source": [
    "import numpy as np\n",
    "import pandas as pd"
   ]
  },
  {
   "cell_type": "code",
   "execution_count": 3,
   "id": "90901ed7-ec09-4325-9917-42d5ab9903a3",
   "metadata": {},
   "outputs": [
    {
     "name": "stdout",
     "output_type": "stream",
     "text": [
      "<class 'dict'>\n"
     ]
    }
   ],
   "source": [
    "data={\n",
    "    'names' : [\"Alice\", \"Bob\", \"Carol\", \"David\", \"Emma\"],\n",
    "    'ages' : [28, 34, 25, 40, 30],\n",
    "    'salaries' : [75000, 68000, 72000, 90000, 81000],\n",
    "    'cities' : [\"New York\", \"Los Angeles\", \"Chicago\", \"Houston\", \"San Francisco\"]\n",
    "}\n",
    "data\n",
    "print(type(data))"
   ]
  },
  {
   "cell_type": "code",
   "execution_count": 4,
   "id": "8f36471e-7f3c-4bde-a8fc-192ca34c9f59",
   "metadata": {},
   "outputs": [],
   "source": [
    "labels=['a','b','c','d','e']"
   ]
  },
  {
   "cell_type": "code",
   "execution_count": 5,
   "id": "158b8d3e-3a65-4629-999b-235388499cd3",
   "metadata": {},
   "outputs": [],
   "source": [
    "df=pd.DataFrame(data, index=labels) "
   ]
  },
  {
   "cell_type": "code",
   "execution_count": 6,
   "id": "7c6d365b-1252-4be7-a595-1a011b0dde64",
   "metadata": {},
   "outputs": [],
   "source": [
    "df['designation']=['doctor','engg','prof','manager','engg'] # this is called asssign the new column to dataframe"
   ]
  },
  {
   "cell_type": "code",
   "execution_count": 7,
   "id": "2e50f2b9-35ed-4125-b390-e5b67ad5864a",
   "metadata": {},
   "outputs": [
    {
     "data": {
      "text/html": [
       "<div>\n",
       "<style scoped>\n",
       "    .dataframe tbody tr th:only-of-type {\n",
       "        vertical-align: middle;\n",
       "    }\n",
       "\n",
       "    .dataframe tbody tr th {\n",
       "        vertical-align: top;\n",
       "    }\n",
       "\n",
       "    .dataframe thead th {\n",
       "        text-align: right;\n",
       "    }\n",
       "</style>\n",
       "<table border=\"1\" class=\"dataframe\">\n",
       "  <thead>\n",
       "    <tr style=\"text-align: right;\">\n",
       "      <th></th>\n",
       "      <th>names</th>\n",
       "      <th>ages</th>\n",
       "      <th>salaries</th>\n",
       "      <th>cities</th>\n",
       "      <th>designation</th>\n",
       "    </tr>\n",
       "  </thead>\n",
       "  <tbody>\n",
       "    <tr>\n",
       "      <th>a</th>\n",
       "      <td>Alice</td>\n",
       "      <td>28</td>\n",
       "      <td>75000</td>\n",
       "      <td>New York</td>\n",
       "      <td>doctor</td>\n",
       "    </tr>\n",
       "    <tr>\n",
       "      <th>b</th>\n",
       "      <td>Bob</td>\n",
       "      <td>34</td>\n",
       "      <td>68000</td>\n",
       "      <td>Los Angeles</td>\n",
       "      <td>engg</td>\n",
       "    </tr>\n",
       "    <tr>\n",
       "      <th>c</th>\n",
       "      <td>Carol</td>\n",
       "      <td>25</td>\n",
       "      <td>72000</td>\n",
       "      <td>Chicago</td>\n",
       "      <td>prof</td>\n",
       "    </tr>\n",
       "    <tr>\n",
       "      <th>d</th>\n",
       "      <td>David</td>\n",
       "      <td>40</td>\n",
       "      <td>90000</td>\n",
       "      <td>Houston</td>\n",
       "      <td>manager</td>\n",
       "    </tr>\n",
       "    <tr>\n",
       "      <th>e</th>\n",
       "      <td>Emma</td>\n",
       "      <td>30</td>\n",
       "      <td>81000</td>\n",
       "      <td>San Francisco</td>\n",
       "      <td>engg</td>\n",
       "    </tr>\n",
       "  </tbody>\n",
       "</table>\n",
       "</div>"
      ],
      "text/plain": [
       "   names  ages  salaries         cities designation\n",
       "a  Alice    28     75000       New York      doctor\n",
       "b    Bob    34     68000    Los Angeles        engg\n",
       "c  Carol    25     72000        Chicago        prof\n",
       "d  David    40     90000        Houston     manager\n",
       "e   Emma    30     81000  San Francisco        engg"
      ]
     },
     "execution_count": 7,
     "metadata": {},
     "output_type": "execute_result"
    }
   ],
   "source": [
    "df"
   ]
  },
  {
   "cell_type": "code",
   "execution_count": 8,
   "id": "4c12c8c8-2e7a-46c5-8b5d-89b40f5fc7ed",
   "metadata": {},
   "outputs": [
    {
     "data": {
      "text/html": [
       "<div>\n",
       "<style scoped>\n",
       "    .dataframe tbody tr th:only-of-type {\n",
       "        vertical-align: middle;\n",
       "    }\n",
       "\n",
       "    .dataframe tbody tr th {\n",
       "        vertical-align: top;\n",
       "    }\n",
       "\n",
       "    .dataframe thead th {\n",
       "        text-align: right;\n",
       "    }\n",
       "</style>\n",
       "<table border=\"1\" class=\"dataframe\">\n",
       "  <thead>\n",
       "    <tr style=\"text-align: right;\">\n",
       "      <th></th>\n",
       "      <th>names</th>\n",
       "      <th>ages</th>\n",
       "      <th>salaries</th>\n",
       "      <th>cities</th>\n",
       "      <th>designation</th>\n",
       "    </tr>\n",
       "  </thead>\n",
       "  <tbody>\n",
       "    <tr>\n",
       "      <th>a</th>\n",
       "      <td>Alice</td>\n",
       "      <td>28</td>\n",
       "      <td>75000</td>\n",
       "      <td>New York</td>\n",
       "      <td>doctor</td>\n",
       "    </tr>\n",
       "    <tr>\n",
       "      <th>b</th>\n",
       "      <td>Bob</td>\n",
       "      <td>34</td>\n",
       "      <td>68000</td>\n",
       "      <td>Los Angeles</td>\n",
       "      <td>engg</td>\n",
       "    </tr>\n",
       "    <tr>\n",
       "      <th>c</th>\n",
       "      <td>Carol</td>\n",
       "      <td>25</td>\n",
       "      <td>72000</td>\n",
       "      <td>Chicago</td>\n",
       "      <td>prof</td>\n",
       "    </tr>\n",
       "    <tr>\n",
       "      <th>e</th>\n",
       "      <td>Emma</td>\n",
       "      <td>30</td>\n",
       "      <td>81000</td>\n",
       "      <td>San Francisco</td>\n",
       "      <td>engg</td>\n",
       "    </tr>\n",
       "  </tbody>\n",
       "</table>\n",
       "</div>"
      ],
      "text/plain": [
       "   names  ages  salaries         cities designation\n",
       "a  Alice    28     75000       New York      doctor\n",
       "b    Bob    34     68000    Los Angeles        engg\n",
       "c  Carol    25     72000        Chicago        prof\n",
       "e   Emma    30     81000  San Francisco        engg"
      ]
     },
     "execution_count": 8,
     "metadata": {},
     "output_type": "execute_result"
    }
   ],
   "source": [
    "df[df['designation'].isin(['doctor','prof','engg'])] # this is compare if some element present, then provide that that row"
   ]
  },
  {
   "cell_type": "code",
   "execution_count": null,
   "id": "958480e2-f2a1-43ce-8034-fc0c6ab69489",
   "metadata": {},
   "outputs": [],
   "source": []
  }
 ],
 "metadata": {
  "kernelspec": {
   "display_name": "Python 3 (ipykernel)",
   "language": "python",
   "name": "python3"
  },
  "language_info": {
   "codemirror_mode": {
    "name": "ipython",
    "version": 3
   },
   "file_extension": ".py",
   "mimetype": "text/x-python",
   "name": "python",
   "nbconvert_exporter": "python",
   "pygments_lexer": "ipython3",
   "version": "3.12.7"
  }
 },
 "nbformat": 4,
 "nbformat_minor": 5
}
