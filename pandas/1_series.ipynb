{
 "cells": [
  {
   "cell_type": "markdown",
   "id": "294c5be0-ee69-404f-a2d2-17e401da720c",
   "metadata": {},
   "source": [
    "## start pandas"
   ]
  },
  {
   "cell_type": "code",
   "execution_count": 3,
   "id": "8704dbc5-a118-4055-824d-e30b58653548",
   "metadata": {},
   "outputs": [],
   "source": [
    "import numpy as np\n",
    "import pandas as pd"
   ]
  },
  {
   "cell_type": "markdown",
   "id": "de17a3cf-ff1e-41d2-9d8d-776dc1b84ac0",
   "metadata": {},
   "source": [
    "## series"
   ]
  },
  {
   "cell_type": "code",
   "execution_count": 15,
   "id": "a4bf88e7-868a-4c36-94b2-8fd1a5013573",
   "metadata": {},
   "outputs": [],
   "source": [
    "labels=[\"a\",\"b\",\"c\"]\n",
    "my_list=[12,34,65]\n",
    "arr=np.array([10,23,45])\n",
    "d={1:10,2:32,3:65}"
   ]
  },
  {
   "cell_type": "code",
   "execution_count": 16,
   "id": "20b9d3f5-3e7e-4e79-b413-a1e49979d092",
   "metadata": {},
   "outputs": [
    {
     "data": {
      "text/plain": [
       "0    12\n",
       "1    34\n",
       "2    65\n",
       "dtype: int64"
      ]
     },
     "execution_count": 16,
     "metadata": {},
     "output_type": "execute_result"
    }
   ],
   "source": [
    "pd.Series(my_list)"
   ]
  },
  {
   "cell_type": "code",
   "execution_count": 17,
   "id": "83fdb73a-65a9-4f22-99d2-2438235ae705",
   "metadata": {},
   "outputs": [
    {
     "data": {
      "text/plain": [
       "a    12\n",
       "b    34\n",
       "c    65\n",
       "dtype: int64"
      ]
     },
     "execution_count": 17,
     "metadata": {},
     "output_type": "execute_result"
    }
   ],
   "source": [
    "pd.Series(my_list,index=labels)"
   ]
  },
  {
   "cell_type": "code",
   "execution_count": 18,
   "id": "cafa26c8-f965-423f-beb5-d2539bc0bff0",
   "metadata": {},
   "outputs": [
    {
     "data": {
      "text/plain": [
       "a    10\n",
       "b    23\n",
       "c    45\n",
       "dtype: int32"
      ]
     },
     "execution_count": 18,
     "metadata": {},
     "output_type": "execute_result"
    }
   ],
   "source": [
    "pd.Series(arr,index=labels)"
   ]
  },
  {
   "cell_type": "code",
   "execution_count": 20,
   "id": "58e02a34-09e2-497d-8b2a-8f3b17aee802",
   "metadata": {},
   "outputs": [
    {
     "data": {
      "text/plain": [
       "1    10\n",
       "2    32\n",
       "3    65\n",
       "dtype: int64"
      ]
     },
     "execution_count": 20,
     "metadata": {},
     "output_type": "execute_result"
    }
   ],
   "source": [
    "pd.Series(d) #no need to give index in dictionary, it has already keys which behave as index"
   ]
  }
 ],
 "metadata": {
  "kernelspec": {
   "display_name": "Python 3 (ipykernel)",
   "language": "python",
   "name": "python3"
  },
  "language_info": {
   "codemirror_mode": {
    "name": "ipython",
    "version": 3
   },
   "file_extension": ".py",
   "mimetype": "text/x-python",
   "name": "python",
   "nbconvert_exporter": "python",
   "pygments_lexer": "ipython3",
   "version": "3.12.7"
  }
 },
 "nbformat": 4,
 "nbformat_minor": 5
}
