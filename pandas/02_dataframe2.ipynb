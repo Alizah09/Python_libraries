{
 "cells": [
  {
   "cell_type": "code",
   "execution_count": 1,
   "id": "ffecc423-a487-4a5a-aa7a-e278d39dcc89",
   "metadata": {},
   "outputs": [],
   "source": [
    "import numpy as np\n",
    "import pandas as pd"
   ]
  },
  {
   "cell_type": "code",
   "execution_count": 75,
   "id": "e30b79b6-cde5-44d1-8bf5-d2a88676d332",
   "metadata": {},
   "outputs": [],
   "source": [
    "data_list=[\n",
    "    [ \"Alice\", 28, 75000, \"New York\"],\n",
    "    [\"Bob\", 34, 68000, \"Los Angeles\"],\n",
    "    [\"Carol\", 25, 72000, \"Chicago\"],\n",
    "    [\"David\", 40, 90000, \"Houston\"],\n",
    "    [\"Emma\", 30, 81000, \"San Francisco\"]\n",
    "]"
   ]
  },
  {
   "cell_type": "code",
   "execution_count": 76,
   "id": "8beef4ab-bb38-4a98-a97e-eb4a9a6b246f",
   "metadata": {},
   "outputs": [],
   "source": [
    "labels=['a','b','c','d','e']"
   ]
  },
  {
   "cell_type": "code",
   "execution_count": 77,
   "id": "52ccd1b9-011a-40d7-b2c9-fd17bddc07c3",
   "metadata": {},
   "outputs": [],
   "source": [
    "column=['name','age','salaries','city']"
   ]
  },
  {
   "cell_type": "code",
   "execution_count": 78,
   "id": "6bc38424-f9d3-4422-b78a-632452aca7ef",
   "metadata": {},
   "outputs": [],
   "source": [
    "x=pd.DataFrame(data_list,columns=column,index=labels)"
   ]
  },
  {
   "cell_type": "code",
   "execution_count": 79,
   "id": "530e2fb8-c4ce-44fb-b5ff-e1c321a9897f",
   "metadata": {},
   "outputs": [
    {
     "data": {
      "text/html": [
       "<div>\n",
       "<style scoped>\n",
       "    .dataframe tbody tr th:only-of-type {\n",
       "        vertical-align: middle;\n",
       "    }\n",
       "\n",
       "    .dataframe tbody tr th {\n",
       "        vertical-align: top;\n",
       "    }\n",
       "\n",
       "    .dataframe thead th {\n",
       "        text-align: right;\n",
       "    }\n",
       "</style>\n",
       "<table border=\"1\" class=\"dataframe\">\n",
       "  <thead>\n",
       "    <tr style=\"text-align: right;\">\n",
       "      <th></th>\n",
       "      <th>name</th>\n",
       "      <th>age</th>\n",
       "      <th>salaries</th>\n",
       "      <th>city</th>\n",
       "    </tr>\n",
       "  </thead>\n",
       "  <tbody>\n",
       "    <tr>\n",
       "      <th>a</th>\n",
       "      <td>Alice</td>\n",
       "      <td>28</td>\n",
       "      <td>75000</td>\n",
       "      <td>New York</td>\n",
       "    </tr>\n",
       "    <tr>\n",
       "      <th>b</th>\n",
       "      <td>Bob</td>\n",
       "      <td>34</td>\n",
       "      <td>68000</td>\n",
       "      <td>Los Angeles</td>\n",
       "    </tr>\n",
       "    <tr>\n",
       "      <th>c</th>\n",
       "      <td>Carol</td>\n",
       "      <td>25</td>\n",
       "      <td>72000</td>\n",
       "      <td>Chicago</td>\n",
       "    </tr>\n",
       "    <tr>\n",
       "      <th>d</th>\n",
       "      <td>David</td>\n",
       "      <td>40</td>\n",
       "      <td>90000</td>\n",
       "      <td>Houston</td>\n",
       "    </tr>\n",
       "    <tr>\n",
       "      <th>e</th>\n",
       "      <td>Emma</td>\n",
       "      <td>30</td>\n",
       "      <td>81000</td>\n",
       "      <td>San Francisco</td>\n",
       "    </tr>\n",
       "  </tbody>\n",
       "</table>\n",
       "</div>"
      ],
      "text/plain": [
       "    name  age  salaries           city\n",
       "a  Alice   28     75000       New York\n",
       "b    Bob   34     68000    Los Angeles\n",
       "c  Carol   25     72000        Chicago\n",
       "d  David   40     90000        Houston\n",
       "e   Emma   30     81000  San Francisco"
      ]
     },
     "execution_count": 79,
     "metadata": {},
     "output_type": "execute_result"
    }
   ],
   "source": [
    "x"
   ]
  },
  {
   "cell_type": "code",
   "execution_count": 80,
   "id": "a6d14490-ed13-47ac-a424-ac408962de6f",
   "metadata": {},
   "outputs": [],
   "source": [
    "x['designation']=['doctor','engg','prof','manager','engg']"
   ]
  },
  {
   "cell_type": "code",
   "execution_count": 81,
   "id": "6fecf3dc-0c05-48f5-80ed-9661d32fb474",
   "metadata": {},
   "outputs": [
    {
     "data": {
      "text/html": [
       "<div>\n",
       "<style scoped>\n",
       "    .dataframe tbody tr th:only-of-type {\n",
       "        vertical-align: middle;\n",
       "    }\n",
       "\n",
       "    .dataframe tbody tr th {\n",
       "        vertical-align: top;\n",
       "    }\n",
       "\n",
       "    .dataframe thead th {\n",
       "        text-align: right;\n",
       "    }\n",
       "</style>\n",
       "<table border=\"1\" class=\"dataframe\">\n",
       "  <thead>\n",
       "    <tr style=\"text-align: right;\">\n",
       "      <th></th>\n",
       "      <th>name</th>\n",
       "      <th>age</th>\n",
       "      <th>salaries</th>\n",
       "      <th>city</th>\n",
       "      <th>designation</th>\n",
       "    </tr>\n",
       "  </thead>\n",
       "  <tbody>\n",
       "    <tr>\n",
       "      <th>a</th>\n",
       "      <td>Alice</td>\n",
       "      <td>28</td>\n",
       "      <td>75000</td>\n",
       "      <td>New York</td>\n",
       "      <td>doctor</td>\n",
       "    </tr>\n",
       "    <tr>\n",
       "      <th>b</th>\n",
       "      <td>Bob</td>\n",
       "      <td>34</td>\n",
       "      <td>68000</td>\n",
       "      <td>Los Angeles</td>\n",
       "      <td>engg</td>\n",
       "    </tr>\n",
       "    <tr>\n",
       "      <th>c</th>\n",
       "      <td>Carol</td>\n",
       "      <td>25</td>\n",
       "      <td>72000</td>\n",
       "      <td>Chicago</td>\n",
       "      <td>prof</td>\n",
       "    </tr>\n",
       "    <tr>\n",
       "      <th>d</th>\n",
       "      <td>David</td>\n",
       "      <td>40</td>\n",
       "      <td>90000</td>\n",
       "      <td>Houston</td>\n",
       "      <td>manager</td>\n",
       "    </tr>\n",
       "    <tr>\n",
       "      <th>e</th>\n",
       "      <td>Emma</td>\n",
       "      <td>30</td>\n",
       "      <td>81000</td>\n",
       "      <td>San Francisco</td>\n",
       "      <td>engg</td>\n",
       "    </tr>\n",
       "  </tbody>\n",
       "</table>\n",
       "</div>"
      ],
      "text/plain": [
       "    name  age  salaries           city designation\n",
       "a  Alice   28     75000       New York      doctor\n",
       "b    Bob   34     68000    Los Angeles        engg\n",
       "c  Carol   25     72000        Chicago        prof\n",
       "d  David   40     90000        Houston     manager\n",
       "e   Emma   30     81000  San Francisco        engg"
      ]
     },
     "execution_count": 81,
     "metadata": {},
     "output_type": "execute_result"
    }
   ],
   "source": [
    "x"
   ]
  },
  {
   "cell_type": "code",
   "execution_count": 82,
   "id": "9a8d71cd-6527-4c39-9c24-8fffc861372e",
   "metadata": {},
   "outputs": [
    {
     "data": {
      "text/plain": [
       "name              Alice\n",
       "age                  28\n",
       "salaries          75000\n",
       "city           New York\n",
       "designation      doctor\n",
       "Name: a, dtype: object"
      ]
     },
     "execution_count": 82,
     "metadata": {},
     "output_type": "execute_result"
    }
   ],
   "source": [
    "x.loc['a']"
   ]
  },
  {
   "cell_type": "code",
   "execution_count": 83,
   "id": "c048ea94-3f3d-4497-b0d1-1cfaef8e141e",
   "metadata": {},
   "outputs": [
    {
     "data": {
      "text/html": [
       "<div>\n",
       "<style scoped>\n",
       "    .dataframe tbody tr th:only-of-type {\n",
       "        vertical-align: middle;\n",
       "    }\n",
       "\n",
       "    .dataframe tbody tr th {\n",
       "        vertical-align: top;\n",
       "    }\n",
       "\n",
       "    .dataframe thead th {\n",
       "        text-align: right;\n",
       "    }\n",
       "</style>\n",
       "<table border=\"1\" class=\"dataframe\">\n",
       "  <thead>\n",
       "    <tr style=\"text-align: right;\">\n",
       "      <th></th>\n",
       "      <th>name</th>\n",
       "      <th>age</th>\n",
       "      <th>salaries</th>\n",
       "      <th>city</th>\n",
       "      <th>designation</th>\n",
       "    </tr>\n",
       "  </thead>\n",
       "  <tbody>\n",
       "    <tr>\n",
       "      <th>b</th>\n",
       "      <td>Bob</td>\n",
       "      <td>34</td>\n",
       "      <td>68000</td>\n",
       "      <td>Los Angeles</td>\n",
       "      <td>engg</td>\n",
       "    </tr>\n",
       "    <tr>\n",
       "      <th>d</th>\n",
       "      <td>David</td>\n",
       "      <td>40</td>\n",
       "      <td>90000</td>\n",
       "      <td>Houston</td>\n",
       "      <td>manager</td>\n",
       "    </tr>\n",
       "    <tr>\n",
       "      <th>e</th>\n",
       "      <td>Emma</td>\n",
       "      <td>30</td>\n",
       "      <td>81000</td>\n",
       "      <td>San Francisco</td>\n",
       "      <td>engg</td>\n",
       "    </tr>\n",
       "  </tbody>\n",
       "</table>\n",
       "</div>"
      ],
      "text/plain": [
       "    name  age  salaries           city designation\n",
       "b    Bob   34     68000    Los Angeles        engg\n",
       "d  David   40     90000        Houston     manager\n",
       "e   Emma   30     81000  San Francisco        engg"
      ]
     },
     "execution_count": 83,
     "metadata": {},
     "output_type": "execute_result"
    }
   ],
   "source": [
    "x.loc[['b','d','e']] # here u getting row information by giving row name"
   ]
  },
  {
   "cell_type": "code",
   "execution_count": 84,
   "id": "aa815e7b-495f-41b5-98cb-0a87a3b4138a",
   "metadata": {},
   "outputs": [
    {
     "data": {
      "text/plain": [
       "name             Carol\n",
       "age                 25\n",
       "salaries         72000\n",
       "city           Chicago\n",
       "designation       prof\n",
       "Name: c, dtype: object"
      ]
     },
     "execution_count": 84,
     "metadata": {},
     "output_type": "execute_result"
    }
   ],
   "source": [
    "x.iloc[2] # but here u have to give the row index number to take information of that row"
   ]
  },
  {
   "cell_type": "markdown",
   "id": "238bd8e0-36e5-421c-9654-0e52dad3809a",
   "metadata": {},
   "source": [
    "## selecting subsets of rows and column"
   ]
  },
  {
   "cell_type": "code",
   "execution_count": 85,
   "id": "5c43ad69-8b6e-4c34-8d16-14813ec39a8d",
   "metadata": {},
   "outputs": [
    {
     "data": {
      "text/plain": [
       "'New York'"
      ]
     },
     "execution_count": 85,
     "metadata": {},
     "output_type": "execute_result"
    }
   ],
   "source": [
    "x.loc['a']['city']"
   ]
  },
  {
   "cell_type": "code",
   "execution_count": 86,
   "id": "be449fa2-9299-4ddb-8a5d-adc8bb125809",
   "metadata": {},
   "outputs": [
    {
     "data": {
      "text/html": [
       "<div>\n",
       "<style scoped>\n",
       "    .dataframe tbody tr th:only-of-type {\n",
       "        vertical-align: middle;\n",
       "    }\n",
       "\n",
       "    .dataframe tbody tr th {\n",
       "        vertical-align: top;\n",
       "    }\n",
       "\n",
       "    .dataframe thead th {\n",
       "        text-align: right;\n",
       "    }\n",
       "</style>\n",
       "<table border=\"1\" class=\"dataframe\">\n",
       "  <thead>\n",
       "    <tr style=\"text-align: right;\">\n",
       "      <th></th>\n",
       "      <th>city</th>\n",
       "      <th>age</th>\n",
       "    </tr>\n",
       "  </thead>\n",
       "  <tbody>\n",
       "    <tr>\n",
       "      <th>a</th>\n",
       "      <td>New York</td>\n",
       "      <td>28</td>\n",
       "    </tr>\n",
       "    <tr>\n",
       "      <th>c</th>\n",
       "      <td>Chicago</td>\n",
       "      <td>25</td>\n",
       "    </tr>\n",
       "  </tbody>\n",
       "</table>\n",
       "</div>"
      ],
      "text/plain": [
       "       city  age\n",
       "a  New York   28\n",
       "c   Chicago   25"
      ]
     },
     "execution_count": 86,
     "metadata": {},
     "output_type": "execute_result"
    }
   ],
   "source": [
    "x.loc[['a','c']][['city','age']]"
   ]
  },
  {
   "cell_type": "code",
   "execution_count": 87,
   "id": "af433f14-32bf-484d-9382-985df0a11472",
   "metadata": {},
   "outputs": [
    {
     "data": {
      "text/html": [
       "<div>\n",
       "<style scoped>\n",
       "    .dataframe tbody tr th:only-of-type {\n",
       "        vertical-align: middle;\n",
       "    }\n",
       "\n",
       "    .dataframe tbody tr th {\n",
       "        vertical-align: top;\n",
       "    }\n",
       "\n",
       "    .dataframe thead th {\n",
       "        text-align: right;\n",
       "    }\n",
       "</style>\n",
       "<table border=\"1\" class=\"dataframe\">\n",
       "  <thead>\n",
       "    <tr style=\"text-align: right;\">\n",
       "      <th></th>\n",
       "      <th>name</th>\n",
       "      <th>age</th>\n",
       "    </tr>\n",
       "  </thead>\n",
       "  <tbody>\n",
       "    <tr>\n",
       "      <th>c</th>\n",
       "      <td>Carol</td>\n",
       "      <td>25</td>\n",
       "    </tr>\n",
       "    <tr>\n",
       "      <th>d</th>\n",
       "      <td>David</td>\n",
       "      <td>40</td>\n",
       "    </tr>\n",
       "  </tbody>\n",
       "</table>\n",
       "</div>"
      ],
      "text/plain": [
       "    name  age\n",
       "c  Carol   25\n",
       "d  David   40"
      ]
     },
     "execution_count": 87,
     "metadata": {},
     "output_type": "execute_result"
    }
   ],
   "source": [
    "x.loc[['c','d']][['name','age']]"
   ]
  },
  {
   "cell_type": "markdown",
   "id": "21ccf3e1-19d0-47d8-83d7-2a3aae85d6bc",
   "metadata": {},
   "source": [
    "## conditional selection"
   ]
  },
  {
   "cell_type": "code",
   "execution_count": 88,
   "id": "0f5b5628-f175-4b32-963b-978e24077bc9",
   "metadata": {},
   "outputs": [],
   "source": [
    "#want to see those people whose age is above 30"
   ]
  },
  {
   "cell_type": "code",
   "execution_count": 89,
   "id": "71c2f349-a137-40e0-b8dc-926dcef3324b",
   "metadata": {},
   "outputs": [
    {
     "data": {
      "text/plain": [
       "a    False\n",
       "b     True\n",
       "c    False\n",
       "d     True\n",
       "e    False\n",
       "Name: age, dtype: bool"
      ]
     },
     "execution_count": 89,
     "metadata": {},
     "output_type": "execute_result"
    }
   ],
   "source": [
    "x['age']>30"
   ]
  },
  {
   "cell_type": "code",
   "execution_count": 90,
   "id": "811b01e4-644c-481a-ac96-300aff83a44e",
   "metadata": {},
   "outputs": [
    {
     "data": {
      "text/html": [
       "<div>\n",
       "<style scoped>\n",
       "    .dataframe tbody tr th:only-of-type {\n",
       "        vertical-align: middle;\n",
       "    }\n",
       "\n",
       "    .dataframe tbody tr th {\n",
       "        vertical-align: top;\n",
       "    }\n",
       "\n",
       "    .dataframe thead th {\n",
       "        text-align: right;\n",
       "    }\n",
       "</style>\n",
       "<table border=\"1\" class=\"dataframe\">\n",
       "  <thead>\n",
       "    <tr style=\"text-align: right;\">\n",
       "      <th></th>\n",
       "      <th>name</th>\n",
       "      <th>age</th>\n",
       "      <th>salaries</th>\n",
       "      <th>city</th>\n",
       "      <th>designation</th>\n",
       "    </tr>\n",
       "  </thead>\n",
       "  <tbody>\n",
       "    <tr>\n",
       "      <th>b</th>\n",
       "      <td>Bob</td>\n",
       "      <td>34</td>\n",
       "      <td>68000</td>\n",
       "      <td>Los Angeles</td>\n",
       "      <td>engg</td>\n",
       "    </tr>\n",
       "    <tr>\n",
       "      <th>d</th>\n",
       "      <td>David</td>\n",
       "      <td>40</td>\n",
       "      <td>90000</td>\n",
       "      <td>Houston</td>\n",
       "      <td>manager</td>\n",
       "    </tr>\n",
       "  </tbody>\n",
       "</table>\n",
       "</div>"
      ],
      "text/plain": [
       "    name  age  salaries         city designation\n",
       "b    Bob   34     68000  Los Angeles        engg\n",
       "d  David   40     90000      Houston     manager"
      ]
     },
     "execution_count": 90,
     "metadata": {},
     "output_type": "execute_result"
    }
   ],
   "source": [
    "x[x['age']>30]"
   ]
  },
  {
   "cell_type": "code",
   "execution_count": 97,
   "id": "a12ea750-535b-46bd-8680-f7469367c7c7",
   "metadata": {},
   "outputs": [],
   "source": [
    "# tell me the people whose age is above 30 and from Houston"
   ]
  },
  {
   "cell_type": "code",
   "execution_count": 98,
   "id": "7a97b38e-1a80-4452-b905-c788b53bf6ff",
   "metadata": {},
   "outputs": [
    {
     "data": {
      "text/html": [
       "<div>\n",
       "<style scoped>\n",
       "    .dataframe tbody tr th:only-of-type {\n",
       "        vertical-align: middle;\n",
       "    }\n",
       "\n",
       "    .dataframe tbody tr th {\n",
       "        vertical-align: top;\n",
       "    }\n",
       "\n",
       "    .dataframe thead th {\n",
       "        text-align: right;\n",
       "    }\n",
       "</style>\n",
       "<table border=\"1\" class=\"dataframe\">\n",
       "  <thead>\n",
       "    <tr style=\"text-align: right;\">\n",
       "      <th></th>\n",
       "      <th>name</th>\n",
       "      <th>age</th>\n",
       "      <th>salaries</th>\n",
       "      <th>city</th>\n",
       "      <th>designation</th>\n",
       "    </tr>\n",
       "  </thead>\n",
       "  <tbody>\n",
       "    <tr>\n",
       "      <th>d</th>\n",
       "      <td>David</td>\n",
       "      <td>40</td>\n",
       "      <td>90000</td>\n",
       "      <td>Houston</td>\n",
       "      <td>manager</td>\n",
       "    </tr>\n",
       "  </tbody>\n",
       "</table>\n",
       "</div>"
      ],
      "text/plain": [
       "    name  age  salaries     city designation\n",
       "d  David   40     90000  Houston     manager"
      ]
     },
     "execution_count": 98,
     "metadata": {},
     "output_type": "execute_result"
    }
   ],
   "source": [
    "x[(x['age']>30) & (x['city']=='Houston')]"
   ]
  }
 ],
 "metadata": {
  "kernelspec": {
   "display_name": "Python 3 (ipykernel)",
   "language": "python",
   "name": "python3"
  },
  "language_info": {
   "codemirror_mode": {
    "name": "ipython",
    "version": 3
   },
   "file_extension": ".py",
   "mimetype": "text/x-python",
   "name": "python",
   "nbconvert_exporter": "python",
   "pygments_lexer": "ipython3",
   "version": "3.12.7"
  }
 },
 "nbformat": 4,
 "nbformat_minor": 5
}
