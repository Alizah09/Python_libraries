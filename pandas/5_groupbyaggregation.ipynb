{
 "cells": [
  {
   "cell_type": "code",
   "execution_count": 1,
   "id": "1ed27bed-fe15-4f54-a1c7-2a9d0c0f49ad",
   "metadata": {},
   "outputs": [],
   "source": [
    "import numpy as np\n",
    "import pandas as pd"
   ]
  },
  {
   "cell_type": "markdown",
   "id": "f003cb71-7d70-4813-9d50-90e8d90d9b1d",
   "metadata": {},
   "source": [
    "## groupby"
   ]
  },
  {
   "cell_type": "code",
   "execution_count": 2,
   "id": "baa74e4d-6663-4a02-938d-e1667f9ddc4b",
   "metadata": {},
   "outputs": [],
   "source": [
    "data = {\n",
    "    'Category': ['A', 'B', 'A', 'B', 'A', 'B', 'A', 'B'],\n",
    "    'Store': ['S1', 'S1', 'S2', 'S2', 'S1', 'S2', 'S2', 'S1'],\n",
    "    'Region': ['East', 'West', 'North', 'South', 'East', 'West', 'North','west'],\n",
    "    'Sales': [100, 200, 150, 250, 120, 180, 200, 300],\n",
    "    'Quantity': [10, 15, 12, 18, 8, 20, 15, 25],\n",
    "    'Date': pd.date_range('2023-01-01', periods=8)\n",
    "}\n",
    "df = pd.DataFrame(data)"
   ]
  },
  {
   "cell_type": "code",
   "execution_count": 3,
   "id": "2bebb390-f87b-4226-8080-12a06191cc7e",
   "metadata": {},
   "outputs": [
    {
     "data": {
      "text/html": [
       "<div>\n",
       "<style scoped>\n",
       "    .dataframe tbody tr th:only-of-type {\n",
       "        vertical-align: middle;\n",
       "    }\n",
       "\n",
       "    .dataframe tbody tr th {\n",
       "        vertical-align: top;\n",
       "    }\n",
       "\n",
       "    .dataframe thead th {\n",
       "        text-align: right;\n",
       "    }\n",
       "</style>\n",
       "<table border=\"1\" class=\"dataframe\">\n",
       "  <thead>\n",
       "    <tr style=\"text-align: right;\">\n",
       "      <th></th>\n",
       "      <th>Category</th>\n",
       "      <th>Store</th>\n",
       "      <th>Region</th>\n",
       "      <th>Sales</th>\n",
       "      <th>Quantity</th>\n",
       "      <th>Date</th>\n",
       "    </tr>\n",
       "  </thead>\n",
       "  <tbody>\n",
       "    <tr>\n",
       "      <th>0</th>\n",
       "      <td>A</td>\n",
       "      <td>S1</td>\n",
       "      <td>East</td>\n",
       "      <td>100</td>\n",
       "      <td>10</td>\n",
       "      <td>2023-01-01</td>\n",
       "    </tr>\n",
       "    <tr>\n",
       "      <th>1</th>\n",
       "      <td>B</td>\n",
       "      <td>S1</td>\n",
       "      <td>West</td>\n",
       "      <td>200</td>\n",
       "      <td>15</td>\n",
       "      <td>2023-01-02</td>\n",
       "    </tr>\n",
       "    <tr>\n",
       "      <th>2</th>\n",
       "      <td>A</td>\n",
       "      <td>S2</td>\n",
       "      <td>North</td>\n",
       "      <td>150</td>\n",
       "      <td>12</td>\n",
       "      <td>2023-01-03</td>\n",
       "    </tr>\n",
       "    <tr>\n",
       "      <th>3</th>\n",
       "      <td>B</td>\n",
       "      <td>S2</td>\n",
       "      <td>South</td>\n",
       "      <td>250</td>\n",
       "      <td>18</td>\n",
       "      <td>2023-01-04</td>\n",
       "    </tr>\n",
       "    <tr>\n",
       "      <th>4</th>\n",
       "      <td>A</td>\n",
       "      <td>S1</td>\n",
       "      <td>East</td>\n",
       "      <td>120</td>\n",
       "      <td>8</td>\n",
       "      <td>2023-01-05</td>\n",
       "    </tr>\n",
       "    <tr>\n",
       "      <th>5</th>\n",
       "      <td>B</td>\n",
       "      <td>S2</td>\n",
       "      <td>West</td>\n",
       "      <td>180</td>\n",
       "      <td>20</td>\n",
       "      <td>2023-01-06</td>\n",
       "    </tr>\n",
       "    <tr>\n",
       "      <th>6</th>\n",
       "      <td>A</td>\n",
       "      <td>S2</td>\n",
       "      <td>North</td>\n",
       "      <td>200</td>\n",
       "      <td>15</td>\n",
       "      <td>2023-01-07</td>\n",
       "    </tr>\n",
       "    <tr>\n",
       "      <th>7</th>\n",
       "      <td>B</td>\n",
       "      <td>S1</td>\n",
       "      <td>west</td>\n",
       "      <td>300</td>\n",
       "      <td>25</td>\n",
       "      <td>2023-01-08</td>\n",
       "    </tr>\n",
       "  </tbody>\n",
       "</table>\n",
       "</div>"
      ],
      "text/plain": [
       "  Category Store Region  Sales  Quantity       Date\n",
       "0        A    S1   East    100        10 2023-01-01\n",
       "1        B    S1   West    200        15 2023-01-02\n",
       "2        A    S2  North    150        12 2023-01-03\n",
       "3        B    S2  South    250        18 2023-01-04\n",
       "4        A    S1   East    120         8 2023-01-05\n",
       "5        B    S2   West    180        20 2023-01-06\n",
       "6        A    S2  North    200        15 2023-01-07\n",
       "7        B    S1   west    300        25 2023-01-08"
      ]
     },
     "execution_count": 3,
     "metadata": {},
     "output_type": "execute_result"
    }
   ],
   "source": [
    "df"
   ]
  },
  {
   "cell_type": "code",
   "execution_count": 92,
   "id": "cc3943c4-a58b-4232-8c41-3a87c3cb0ab9",
   "metadata": {},
   "outputs": [],
   "source": [
    "#group by category and calculatethe sum of sales"
   ]
  },
  {
   "cell_type": "code",
   "execution_count": 4,
   "id": "da930caf-b3c8-4b4b-9b34-0752ebdfc2a6",
   "metadata": {},
   "outputs": [
    {
     "data": {
      "text/plain": [
       "<pandas.core.groupby.generic.DataFrameGroupBy object at 0x000002363B4311F0>"
      ]
     },
     "execution_count": 4,
     "metadata": {},
     "output_type": "execute_result"
    }
   ],
   "source": [
    "cat=df.groupby('Category') # u can't see cat after running, coz groupby dataframe nhi object create krta hai \n",
    "cat #Now cat is a GroupBy object, which groups your DataFrame based on the values in the 'Category' column (A and B)."
   ]
  },
  {
   "cell_type": "code",
   "execution_count": 5,
   "id": "24937903-09fa-4e6d-8c68-7026b7951e17",
   "metadata": {},
   "outputs": [
    {
     "name": "stdout",
     "output_type": "stream",
     "text": [
      "A\n",
      "  Category Store Region  Sales  Quantity       Date\n",
      "0        A    S1   East    100        10 2023-01-01\n",
      "2        A    S2  North    150        12 2023-01-03\n",
      "4        A    S1   East    120         8 2023-01-05\n",
      "6        A    S2  North    200        15 2023-01-07\n",
      "B\n",
      "  Category Store Region  Sales  Quantity       Date\n",
      "1        B    S1   West    200        15 2023-01-02\n",
      "3        B    S2  South    250        18 2023-01-04\n",
      "5        B    S2   West    180        20 2023-01-06\n",
      "7        B    S1   west    300        25 2023-01-08\n"
     ]
    }
   ],
   "source": [
    "for i, v in cat: # i=group_name(A,B)\n",
    "    print(i)     # just for knowledge\n",
    "    print(v)     # v=group_data will be a DataFrame containing only the rows where Category == group_name"
   ]
  },
  {
   "cell_type": "code",
   "execution_count": 18,
   "id": "e9d47fd0-e2c6-4200-9e61-2101c8f3c974",
   "metadata": {},
   "outputs": [
    {
     "data": {
      "text/plain": [
       "Category\n",
       "A    570\n",
       "B    930\n",
       "Name: Sales, dtype: int64"
      ]
     },
     "execution_count": 18,
     "metadata": {},
     "output_type": "execute_result"
    }
   ],
   "source": [
    "agg=df.groupby('Category')['Sales'].sum() #here category ko [] me dalo ya nhi, kyuki single hai, 2 list hoti to user krte\n",
    "agg # groupby create object u can't see, it will give series"
   ]
  },
  {
   "cell_type": "code",
   "execution_count": 9,
   "id": "d9e5d912-6317-4089-b13f-a305e1a319f1",
   "metadata": {},
   "outputs": [],
   "source": [
    "#groupby store and calculate the sum of sales, groupby use only when use aggregation"
   ]
  },
  {
   "cell_type": "code",
   "execution_count": 21,
   "id": "80a2e053-042b-47e6-881f-7a4cf3d6250a",
   "metadata": {},
   "outputs": [
    {
     "data": {
      "text/html": [
       "<div>\n",
       "<style scoped>\n",
       "    .dataframe tbody tr th:only-of-type {\n",
       "        vertical-align: middle;\n",
       "    }\n",
       "\n",
       "    .dataframe tbody tr th {\n",
       "        vertical-align: top;\n",
       "    }\n",
       "\n",
       "    .dataframe thead th {\n",
       "        text-align: right;\n",
       "    }\n",
       "</style>\n",
       "<table border=\"1\" class=\"dataframe\">\n",
       "  <thead>\n",
       "    <tr style=\"text-align: right;\">\n",
       "      <th></th>\n",
       "      <th>Sales</th>\n",
       "    </tr>\n",
       "    <tr>\n",
       "      <th>Category</th>\n",
       "      <th></th>\n",
       "    </tr>\n",
       "  </thead>\n",
       "  <tbody>\n",
       "    <tr>\n",
       "      <th>A</th>\n",
       "      <td>570</td>\n",
       "    </tr>\n",
       "    <tr>\n",
       "      <th>B</th>\n",
       "      <td>930</td>\n",
       "    </tr>\n",
       "  </tbody>\n",
       "</table>\n",
       "</div>"
      ],
      "text/plain": [
       "          Sales\n",
       "Category       \n",
       "A           570\n",
       "B           930"
      ]
     },
     "execution_count": 21,
     "metadata": {},
     "output_type": "execute_result"
    }
   ],
   "source": [
    "agg_df = df.groupby('Category')[['Sales']].sum()\n",
    "agg_df # this is dataframe"
   ]
  },
  {
   "cell_type": "code",
   "execution_count": 22,
   "id": "ad7e3141-b837-4cce-819f-8b863a2eee78",
   "metadata": {},
   "outputs": [
    {
     "data": {
      "text/plain": [
       "Store\n",
       "S1    720\n",
       "S2    780\n",
       "Name: Sales, dtype: int64"
      ]
     },
     "execution_count": 22,
     "metadata": {},
     "output_type": "execute_result"
    }
   ],
   "source": [
    "agg1=df.groupby(['Store'])['Sales'].sum()\n",
    "agg1"
   ]
  },
  {
   "cell_type": "code",
   "execution_count": 23,
   "id": "ec4fb81b-90e9-484b-ba6e-48c1abf3c30b",
   "metadata": {},
   "outputs": [],
   "source": [
    "# Group by multiple columns\n",
    "# Group by Category and Store, it happens with categoricxal data"
   ]
  },
  {
   "cell_type": "code",
   "execution_count": 26,
   "id": "e1d91245-24a9-4342-95fc-bd15f13ce156",
   "metadata": {},
   "outputs": [
    {
     "data": {
      "text/plain": [
       "Category  Store\n",
       "A         S1       220\n",
       "          S2       350\n",
       "B         S1       500\n",
       "          S2       430\n",
       "Name: Sales, dtype: int64"
      ]
     },
     "execution_count": 26,
     "metadata": {},
     "output_type": "execute_result"
    }
   ],
   "source": [
    "df.groupby(['Category','Store'])['Sales'].sum()"
   ]
  },
  {
   "cell_type": "markdown",
   "id": "2c1ca371-b98b-4a63-a91c-a5c66fdcc09c",
   "metadata": {},
   "source": [
    "## aggregation"
   ]
  },
  {
   "cell_type": "code",
   "execution_count": 27,
   "id": "cf148f2a-7a22-4a91-9e60-cbf1b7cce263",
   "metadata": {},
   "outputs": [
    {
     "data": {
      "text/plain": [
       "187.5"
      ]
     },
     "execution_count": 27,
     "metadata": {},
     "output_type": "execute_result"
    }
   ],
   "source": [
    "df['Sales'].mean()"
   ]
  },
  {
   "cell_type": "code",
   "execution_count": 28,
   "id": "f6b6051a-8175-47f9-9210-508e6b0185cd",
   "metadata": {},
   "outputs": [
    {
     "data": {
      "text/plain": [
       "100"
      ]
     },
     "execution_count": 28,
     "metadata": {},
     "output_type": "execute_result"
    }
   ],
   "source": [
    "df['Sales'].min()"
   ]
  },
  {
   "cell_type": "code",
   "execution_count": 29,
   "id": "3f4daf86-6042-4577-9faf-a1bcb4a2f0f0",
   "metadata": {},
   "outputs": [
    {
     "data": {
      "text/plain": [
       "190.0"
      ]
     },
     "execution_count": 29,
     "metadata": {},
     "output_type": "execute_result"
    }
   ],
   "source": [
    "df['Sales'].median()"
   ]
  },
  {
   "cell_type": "code",
   "execution_count": 30,
   "id": "9dda1781-28f3-4ddd-b066-ffff9dfbe610",
   "metadata": {},
   "outputs": [
    {
     "data": {
      "text/plain": [
       "300"
      ]
     },
     "execution_count": 30,
     "metadata": {},
     "output_type": "execute_result"
    }
   ],
   "source": [
    "df['Sales'].max()"
   ]
  },
  {
   "cell_type": "code",
   "execution_count": 31,
   "id": "a3a01dc9-c8bb-494b-adf5-1593c371e493",
   "metadata": {},
   "outputs": [
    {
     "data": {
      "text/plain": [
       "66.06274074155351"
      ]
     },
     "execution_count": 31,
     "metadata": {},
     "output_type": "execute_result"
    }
   ],
   "source": [
    "df['Sales'].std()"
   ]
  },
  {
   "cell_type": "code",
   "execution_count": 32,
   "id": "219c0c41-664b-4e97-be48-4861f049a5f5",
   "metadata": {},
   "outputs": [
    {
     "data": {
      "text/plain": [
       "8"
      ]
     },
     "execution_count": 32,
     "metadata": {},
     "output_type": "execute_result"
    }
   ],
   "source": [
    "df['Sales'].count()"
   ]
  },
  {
   "cell_type": "code",
   "execution_count": 33,
   "id": "e6dcc895-831e-4d6a-99dc-635e6ed58fa5",
   "metadata": {},
   "outputs": [
    {
     "data": {
      "text/plain": [
       "mean      187.500000\n",
       "median    190.000000\n",
       "max       300.000000\n",
       "min       100.000000\n",
       "std        66.062741\n",
       "Name: Sales, dtype: float64"
      ]
     },
     "execution_count": 33,
     "metadata": {},
     "output_type": "execute_result"
    }
   ],
   "source": [
    "df['Sales'].agg(['mean','median','max','min','std'])"
   ]
  },
  {
   "cell_type": "code",
   "execution_count": 34,
   "id": "f401a8d3-8bb0-4eb1-859e-58b3627c3b55",
   "metadata": {},
   "outputs": [
    {
     "data": {
      "text/html": [
       "<div>\n",
       "<style scoped>\n",
       "    .dataframe tbody tr th:only-of-type {\n",
       "        vertical-align: middle;\n",
       "    }\n",
       "\n",
       "    .dataframe tbody tr th {\n",
       "        vertical-align: top;\n",
       "    }\n",
       "\n",
       "    .dataframe thead th {\n",
       "        text-align: right;\n",
       "    }\n",
       "</style>\n",
       "<table border=\"1\" class=\"dataframe\">\n",
       "  <thead>\n",
       "    <tr style=\"text-align: right;\">\n",
       "      <th></th>\n",
       "      <th>sum</th>\n",
       "      <th>mean</th>\n",
       "      <th>count</th>\n",
       "    </tr>\n",
       "    <tr>\n",
       "      <th>Region</th>\n",
       "      <th></th>\n",
       "      <th></th>\n",
       "      <th></th>\n",
       "    </tr>\n",
       "  </thead>\n",
       "  <tbody>\n",
       "    <tr>\n",
       "      <th>East</th>\n",
       "      <td>220</td>\n",
       "      <td>110.0</td>\n",
       "      <td>2</td>\n",
       "    </tr>\n",
       "    <tr>\n",
       "      <th>North</th>\n",
       "      <td>350</td>\n",
       "      <td>175.0</td>\n",
       "      <td>2</td>\n",
       "    </tr>\n",
       "    <tr>\n",
       "      <th>South</th>\n",
       "      <td>250</td>\n",
       "      <td>250.0</td>\n",
       "      <td>1</td>\n",
       "    </tr>\n",
       "    <tr>\n",
       "      <th>West</th>\n",
       "      <td>380</td>\n",
       "      <td>190.0</td>\n",
       "      <td>2</td>\n",
       "    </tr>\n",
       "    <tr>\n",
       "      <th>west</th>\n",
       "      <td>300</td>\n",
       "      <td>300.0</td>\n",
       "      <td>1</td>\n",
       "    </tr>\n",
       "  </tbody>\n",
       "</table>\n",
       "</div>"
      ],
      "text/plain": [
       "        sum   mean  count\n",
       "Region                   \n",
       "East    220  110.0      2\n",
       "North   350  175.0      2\n",
       "South   250  250.0      1\n",
       "West    380  190.0      2\n",
       "west    300  300.0      1"
      ]
     },
     "execution_count": 34,
     "metadata": {},
     "output_type": "execute_result"
    }
   ],
   "source": [
    "df.groupby('Region')['Sales'].agg(['sum', 'mean', 'count'])\n"
   ]
  },
  {
   "cell_type": "code",
   "execution_count": null,
   "id": "8d17a684-d7ac-4743-8068-ed631b9274be",
   "metadata": {},
   "outputs": [],
   "source": []
  },
  {
   "cell_type": "code",
   "execution_count": null,
   "id": "11f1ff23-dbd5-4e35-b4a3-24da5fd14aa4",
   "metadata": {},
   "outputs": [],
   "source": []
  }
 ],
 "metadata": {
  "kernelspec": {
   "display_name": "Python 3 (ipykernel)",
   "language": "python",
   "name": "python3"
  },
  "language_info": {
   "codemirror_mode": {
    "name": "ipython",
    "version": 3
   },
   "file_extension": ".py",
   "mimetype": "text/x-python",
   "name": "python",
   "nbconvert_exporter": "python",
   "pygments_lexer": "ipython3",
   "version": "3.12.7"
  }
 },
 "nbformat": 4,
 "nbformat_minor": 5
}
